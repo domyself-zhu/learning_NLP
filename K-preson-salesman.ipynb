{
 "cells": [
  {
   "cell_type": "code",
   "execution_count": 1,
   "metadata": {},
   "outputs": [],
   "source": [
    "import random\n",
    "import math\n",
    "import networkx as nx\n",
    "import matplotlib.font_manager\n",
    "import matplotlib.pyplot as plt"
   ]
  },
  {
   "cell_type": "code",
   "execution_count": 2,
   "metadata": {},
   "outputs": [],
   "source": [
    "citys_location = {'香港': (114.17, 22.28),\n",
    " '兰州': (103.73, 36.03),\n",
    " '嘉峪关': (98.17, 39.47),\n",
    " '西宁': (101.74, 36.56),\n",
    " '成都': (104.06, 30.67),\n",
    " '石家庄': (114.48, 38.03),\n",
    " '拉萨': (102.73, 25.04),\n",
    " '贵阳': (106.71, 26.57),\n",
    " '武汉': (114.31, 30.52),\n",
    " '郑州': (113.65, 34.76),\n",
    " '济南': (117.0, 36.65),\n",
    " '南京': (118.78, 32.04),\n",
    " '合肥': (117.27, 31.86),\n",
    " '杭州': (120.19, 30.26),\n",
    " '南昌': (115.89, 28.68),\n",
    " '福州': (119.3, 26.08),\n",
    " '广州': (113.23, 23.16),\n",
    " '长沙': (113.0, 28.21),\n",
    " '海口': (110.35, 20.02),\n",
    " '沈阳': (123.38, 41.8),\n",
    " '长春': (125.35, 43.88),\n",
    " '哈尔滨': (126.63, 45.75),\n",
    " '太原': (112.53, 37.87),\n",
    " '西安': (108.95, 34.27),\n",
    " '台湾': (121.3, 25.03),\n",
    " '北京': (116.46, 39.92),\n",
    " '上海': (121.48, 31.22),\n",
    " '重庆': (106.54, 29.59),\n",
    " '天津': (117.2, 39.13),\n",
    " '呼和浩特': (111.65, 40.82),\n",
    " '南宁': (108.33, 22.84),\n",
    " '西藏': (91.11, 29.97),\n",
    " '银川': (106.27, 38.47),\n",
    " '乌鲁木齐': (87.68, 43.77),\n",
    " '澳门': (113.54, 22.19)}"
   ]
  },
  {
   "cell_type": "code",
   "execution_count": 3,
   "metadata": {},
   "outputs": [],
   "source": [
    "def geo_distance(origin, destination):\n",
    "    lat1, lon1 = origin\n",
    "    lat2, lon2 = destination\n",
    "    radius = 6371\n",
    "    \n",
    "    dlat = math.radians(lat2 - lat1)\n",
    "    dlon = math.radians(lon2 - lon1)\n",
    "    a = (math.sin(dlat / 2) * math.sin(dlat / 2) + \n",
    "         math.cos(math.radians(lat1)) * math.cos(math.radians(lat2)) *\n",
    "        math.sin(dlon / 2) * math.sin(dlon / 2))\n",
    "    c = 2 * math.atan2(math.sqrt(a), math.sqrt(1- a))\n",
    "    d = radius * c\n",
    "    \n",
    "    return d"
   ]
  },
  {
   "cell_type": "code",
   "execution_count": 4,
   "metadata": {},
   "outputs": [],
   "source": [
    "def get_geo_distance(city1, city2):\n",
    "    return geo_distance(city_location[city1], city_location[city2])"
   ]
  },
  {
   "cell_type": "code",
   "execution_count": 5,
   "metadata": {},
   "outputs": [],
   "source": [
    "city_graph = nx.Graph()\n",
    "city_graph.add_nodes_from(list(citys_location.keys()))"
   ]
  },
  {
   "cell_type": "code",
   "execution_count": 6,
   "metadata": {},
   "outputs": [
    {
     "name": "stdout",
     "output_type": "stream",
     "text": [
      "Using matplotlib backend: TkAgg\n"
     ]
    }
   ],
   "source": [
    "%matplotlib\n",
    "plt.rcParams['font.sans-serif'] = ['SimHei']\n",
    "# 将字体限定为 SimHei"
   ]
  },
  {
   "cell_type": "code",
   "execution_count": 7,
   "metadata": {},
   "outputs": [],
   "source": [
    "plt.figure(figsize = (20, 20))\n",
    "nx.draw(city_graph, citys_location, with_labels = True, node_size = 10, font_size = 30)"
   ]
  },
  {
   "cell_type": "code",
   "execution_count": 8,
   "metadata": {},
   "outputs": [],
   "source": [
    "from itertools import permutations\n",
    "from math import hypot"
   ]
  },
  {
   "cell_type": "code",
   "execution_count": 9,
   "metadata": {},
   "outputs": [],
   "source": [
    "#brute algorithm\n",
    "def algorithm(cities):\n",
    "    min_length = calc_length(cities, range(len(cities)))\n",
    "    min_path = range(len(cities))\n",
    "    \n",
    "    for path in permutations(range(len(cities))):\n",
    "        length = calc_length(cities, path)\n",
    "        if length < min_length:\n",
    "            min_length = length\n",
    "            min_path = path\n",
    "    print(path)       \n",
    "    return min_path"
   ]
  },
  {
   "cell_type": "code",
   "execution_count": 10,
   "metadata": {},
   "outputs": [],
   "source": [
    "def dist_squared(c1, c2):\n",
    "    lat1, lon1 = citys_location[c1]\n",
    "    lat2, lon2 = citys_location[c2]\n",
    "    t1 = lat2 - lat1\n",
    "    t2 = lon2 - lon1\n",
    "    \n",
    "    return t1**2 + t2 ** 2"
   ]
  },
  {
   "cell_type": "code",
   "execution_count": 11,
   "metadata": {},
   "outputs": [],
   "source": [
    "def calc_length(cities, path):\n",
    "    length = 0\n",
    "    for i in range(len(path)):\n",
    "        length += dist_squared(cities[path[i-1]], cities[path[i]])\n",
    "        \n",
    "    return length"
   ]
  },
  {
   "cell_type": "code",
   "execution_count": 12,
   "metadata": {},
   "outputs": [
    {
     "name": "stdout",
     "output_type": "stream",
     "text": [
      "['香港', '兰州', '嘉峪关', '西宁', '成都', '石家庄', '拉萨', '贵阳', '武汉', '郑州', '济南', '南京', '合肥', '杭州', '南昌', '福州', '广州', '长沙', '海口', '沈阳', '长春', '哈尔滨', '太原', '西安', '台湾', '北京', '上海', '重庆', '天津', '呼和浩特', '南宁', '西藏', '银川', '乌鲁木齐', '澳门']\n"
     ]
    }
   ],
   "source": [
    "cities = ['香港']\n",
    "for i in citys_location:\n",
    "    if i == '香港': continue\n",
    "    cities.append(i)\n",
    "print(cities)"
   ]
  },
  {
   "cell_type": "code",
   "execution_count": null,
   "metadata": {},
   "outputs": [],
   "source": [
    "algorithm(cities)"
   ]
  },
  {
   "cell_type": "code",
   "execution_count": null,
   "metadata": {},
   "outputs": [],
   "source": []
  },
  {
   "cell_type": "code",
   "execution_count": null,
   "metadata": {},
   "outputs": [],
   "source": []
  },
  {
   "cell_type": "code",
   "execution_count": null,
   "metadata": {},
   "outputs": [],
   "source": []
  }
 ],
 "metadata": {
  "kernelspec": {
   "display_name": "Python 3",
   "language": "python",
   "name": "python3"
  },
  "language_info": {
   "codemirror_mode": {
    "name": "ipython",
    "version": 3
   },
   "file_extension": ".py",
   "mimetype": "text/x-python",
   "name": "python",
   "nbconvert_exporter": "python",
   "pygments_lexer": "ipython3",
   "version": "3.7.0"
  }
 },
 "nbformat": 4,
 "nbformat_minor": 2
}
