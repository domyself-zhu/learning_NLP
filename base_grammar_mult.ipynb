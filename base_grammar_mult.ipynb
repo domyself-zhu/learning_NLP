{
 "cells": [
  {
   "cell_type": "code",
   "execution_count": 21,
   "metadata": {},
   "outputs": [],
   "source": [
    "import re\n",
    "import jieba\n",
    "import random\n",
    "import time\n",
    "from collections import defaultdict"
   ]
  },
  {
   "cell_type": "code",
   "execution_count": 22,
   "metadata": {},
   "outputs": [],
   "source": [
    "# 判断是否为 ？*x 形式\n",
    "def is_pattern_segment(pattern):\n",
    "    return pattern.startswith('?*') and all(a.isalpha() for a in pattern[2:])"
   ]
  },
  {
   "cell_type": "code",
   "execution_count": 23,
   "metadata": {},
   "outputs": [],
   "source": [
    "# 判断是否为  ？x 形式\n",
    "def is_variable(pat):\n",
    "    return pat.startswith('?') and all(s.isalpha() for s in pat[1:])"
   ]
  },
  {
   "cell_type": "code",
   "execution_count": 24,
   "metadata": {},
   "outputs": [],
   "source": [
    "# 如果有多个变量，就将其打包成元组，并将其以列表形式返回\n",
    "\n",
    "def pat_match(pattern, saying):\n",
    "    if not pattrn or saying:\n",
    "        return []\n",
    "    if is_variable(pattern[0]):\n",
    "        return [(pattern[0], saying[0])] + pat_match(pattern[1:], saying[1:])\n",
    "    else:\n",
    "        if pattern[0] != saying[0]:\n",
    "            return[]\n",
    "        else:\n",
    "            return pat_match(pattern[1:], saying[1:])"
   ]
  },
  {
   "cell_type": "code",
   "execution_count": 25,
   "metadata": {},
   "outputs": [],
   "source": [
    "# 返回两个list内容是否相同\n",
    "def is_match(rest, saying):\n",
    "    if not rest and not saying:\n",
    "        return True\n",
    "    if not all(a.isalpha() for a in rest[0]):\n",
    "        return True\n",
    "    if rest[0] != saying[0]:\n",
    "        return False\n",
    "    \n",
    "    return is_match(rest[1:], saying[1:])"
   ]
  },
  {
   "cell_type": "code",
   "execution_count": 26,
   "metadata": {},
   "outputs": [],
   "source": [
    "# 贪婪匹配\n",
    "\n",
    "def segment_match(pattern, saying):\n",
    "    seg_pat, rest = pattern[0], pattern[1:]\n",
    "    seg_pat = seg_pat.replace('?*','?')\n",
    "    \n",
    "    if not rest:\n",
    "        return (seg_pat, saying), len(saying)\n",
    "    for i, token in enumerate(saying):\n",
    "        if rest[0] == token and is_match(rest[1:], saying[(i+1):]):\n",
    "            return (seg_pat,saying[:i]), i\n",
    "        \n",
    "    if i == len(saying)-1:\n",
    "        return (), -1\n",
    "    \n",
    "    return (seg_pat, saying), len(saying)"
   ]
  },
  {
   "cell_type": "code",
   "execution_count": 27,
   "metadata": {},
   "outputs": [],
   "source": [
    "# 全局寻找匹配\n",
    "def to_match(pattern, saying):\n",
    "    i, j = 0, 0\n",
    "    m, n = len(pattern), len(saying)\n",
    "    \n",
    "    while i < m and j < n:\n",
    "        if not is_pattern_segment(pattern[i]):\n",
    "            while j < n:\n",
    "                if pattern[i] != saying[j]:\n",
    "                    j += 1\n",
    "                else:\n",
    "                    i += 1\n",
    "                    j += 1\n",
    "                    if i < m and is_pattern_segment(pattern[i]):\n",
    "                        break\n",
    "                        \n",
    "                    if i < m and not is_pattern_segment(pattern[i]) and pattern[i] != saying[j]:\n",
    "                        return False\n",
    "        else:\n",
    "            i += 1\n",
    "            \n",
    "    if i < m and j == n:\n",
    "        return False\n",
    "    \n",
    "    return True"
   ]
  },
  {
   "cell_type": "code",
   "execution_count": 28,
   "metadata": {},
   "outputs": [],
   "source": [
    "# 单值和多值匹配问题\n",
    "\n",
    "def pat_match_with_seg(pattern, saying):\n",
    "    if not pattern or not saying:\n",
    "        return []\n",
    "    pat = pattern[0]\n",
    "    \n",
    "    if is_variable(pat):\n",
    "        return [(pat, saying[0])] + pat_match_with_seg(pattern[1:], saying[1:])\n",
    "    elif is_pattern_segment(pat):\n",
    "        match, index = segment_match(pattern, saying)\n",
    "        return [match] + pat_match_with_seg(pattern[1:], saying[index:])\n",
    "    elif pat == saying[0]:\n",
    "        return pat_match_with_seg(pattern[1:], saying[1:])\n",
    "    else:\n",
    "        return []"
   ]
  },
  {
   "cell_type": "code",
   "execution_count": 29,
   "metadata": {},
   "outputs": [],
   "source": [
    "def subsitite(rule, parsed_rules):\n",
    "    if not rule:\n",
    "        return []\n",
    "    return [parsed_rules.get(rule[0], rule[0])] + subsitite(rule[1:], parsed_rules)"
   ]
  },
  {
   "cell_type": "code",
   "execution_count": 30,
   "metadata": {},
   "outputs": [],
   "source": [
    "def pat_to_dict1(patterns):\n",
    "    return {k:v for k, v in patterns}"
   ]
  },
  {
   "cell_type": "code",
   "execution_count": 31,
   "metadata": {},
   "outputs": [],
   "source": [
    "def pat_to_dict2(pattens):\n",
    "    return{k:''.join(v) if isinstance(v,list) else v for k,v in pattens}"
   ]
  },
  {
   "cell_type": "code",
   "execution_count": 32,
   "metadata": {},
   "outputs": [],
   "source": [
    "def cut_chinese(string):\n",
    "\n",
    "    str_cut = []\n",
    "\n",
    "    str_split = re.compile(r\"(\\?\\*?[A-Za-z])\").split(string)   # 以?*z为分隔符进行切分\n",
    "\n",
    "    for x in str_split:\n",
    "\n",
    "        if is_variable(x) or is_pattern_segment(x):  # ?x or ?*x\n",
    "\n",
    "            str_cut.append(x)\n",
    "\n",
    "        else:\n",
    "\n",
    "            str_cut = str_cut + jieba.lcut(x)\n",
    "\n",
    "    return str_cut\n"
   ]
  },
  {
   "cell_type": "code",
   "execution_count": 33,
   "metadata": {},
   "outputs": [],
   "source": [
    "rule_responses = {\n",
    "    '?*x你好?*y': ['你好，', '有事么'],\n",
    "\n",
    "    '?*想要?*y': ['现在没有?y，你需要其他东西么？'],\n",
    "\n",
    "    '?*x难受?*y': ['难受在?y里？', '?y有什么问题么？'],\n",
    "\n",
    "}"
   ]
  },
  {
   "cell_type": "code",
   "execution_count": 34,
   "metadata": {},
   "outputs": [],
   "source": [
    "def ask_response():\n",
    "    ask = input(\"input:\")\n",
    "    for k,v in rule_responses.items():\n",
    "        pattern = cut_chinese(k)\n",
    "        saying = cut_chinese(ask)\n",
    "        if to_match(pattern, saying):\n",
    "            got_patterns = pat_match_with_seg(pattern, saying)\n",
    "            \n",
    "            vv = random.choice(v)\n",
    "            response = ''.join(subsitite(cut_chinese(vv), pat_to_dict2(got_patterns)))\n",
    "            print(response)\n",
    "            break"
   ]
  },
  {
   "cell_type": "code",
   "execution_count": 35,
   "metadata": {},
   "outputs": [
    {
     "name": "stdout",
     "output_type": "stream",
     "text": [
      "input:你好呀\n",
      "有事么\n"
     ]
    }
   ],
   "source": [
    "ask_response()"
   ]
  },
  {
   "cell_type": "code",
   "execution_count": null,
   "metadata": {},
   "outputs": [],
   "source": []
  }
 ],
 "metadata": {
  "kernelspec": {
   "display_name": "Python 3",
   "language": "python",
   "name": "python3"
  },
  "language_info": {
   "codemirror_mode": {
    "name": "ipython",
    "version": 3
   },
   "file_extension": ".py",
   "mimetype": "text/x-python",
   "name": "python",
   "nbconvert_exporter": "python",
   "pygments_lexer": "ipython3",
   "version": "3.7.0"
  }
 },
 "nbformat": 4,
 "nbformat_minor": 2
}
