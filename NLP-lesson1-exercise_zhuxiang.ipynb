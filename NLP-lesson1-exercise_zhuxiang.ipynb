{
 "cells": [
  {
   "cell_type": "markdown",
   "metadata": {},
   "source": [
    "基础理论部分"
   ]
  },
  {
   "cell_type": "markdown",
   "metadata": {},
   "source": [
    "Q：Can you come up out 3 sceneraies which use AI methods?\n",
    "A：人脸识别，语音识别，在线翻译，智能驾驶\n",
    "Q: How do we use Github; Why do we use Jupyter and Pycharm;\n",
    "A：Github 目前使用者众多，每个人都可以复制开源库并进行修改，修改后的库可与原库合并，方便团队对源代码进行修改。\n",
    "Jupyter本质是一个 Web 应用程序，其一般被用来创建和共享程序文档，支持实时代码，数学方程，可视化和 markdown，方便演示学习。\n",
    "Pycharm具有一般程序IDE所具有的功能，而且其具有的部分功能，对于初学者来说，非常友好。\n",
    "Q:What's the Probability Model?\n",
    "A：在智能对话中，概率模型用于字与字或者是字与词之间的合适的搭配模型，通过计算提问语句的答语在语样本中的概率，择优选出最合适的回答语句。\n",
    "Q:Can you came up with some sceneraies at which we could use Probability Model?\n",
    "A:导航，智能音箱\n",
    "Q:Why do we use probability and what's the difficult points for programming based on parsing and pattern match?\n",
    "A:我认为语法分析或者模式匹配难度主要在于计算机无法识别词语在不同场景中的词性，且在同一句中，相同的词语可能代表不同的意思，我们无法给与计算机精准的词性定义，很大可能上会导致相互冲突。\n",
    "Q:What's the Language Model;\n",
    "A:我认为语言模型是一个形式系统，其更多的被用来将具体事实经过语言模型的分析处理，以便计算机能够更快的计算处理语句。\n",
    "Q:Can you came up with some sceneraies at which we could use Language Model?\n",
    "A:语音识别，在线翻译，同声翻译\n",
    "Q:What's the 1-gram language model;\n",
    "A:1-gram language model是计算单个字或者词语在样本中的统计概率。\n",
    "Q:What's the disadvantages and advantages of 1-gram language model;\n",
    "A:个人认为优点在于词语较短，样本中的出现频率，计算准确率较高。\n",
    "缺点在于对于具体应用场景来说，单个词语无法满足需要。\n",
    "Q:What't the 2-gram models;\n",
    "A：通过计算两个不同词语在样本中的概率，其组合性会更好。也会更加满足实际需要。"
   ]
  },
  {
   "cell_type": "code",
   "execution_count": 1,
   "metadata": {},
   "outputs": [],
   "source": [
    "simple_grammar = \"\"\"\n",
    "sentence => noun_phrase verb_phrase\n",
    "noun_phrase => Article Adj* noun\n",
    "Adj* => null | Adj Adj*\n",
    "verb_phrase => verb noun_phrase\n",
    "Article =>  一个 | 这个\n",
    "noun =>   女人 |  篮球 | 桌子 | 小猫\n",
    "verb => 看着   |  坐在 |  听着 | 看见\n",
    "Adj =>  蓝色的 | 好看的 | 小小的\n",
    "\"\"\""
   ]
  },
  {
   "cell_type": "code",
   "execution_count": 2,
   "metadata": {},
   "outputs": [],
   "source": [
    "another_grammar = \"\"\"\n",
    "#\n",
    "\"\"\""
   ]
  },
  {
   "cell_type": "code",
   "execution_count": 3,
   "metadata": {},
   "outputs": [],
   "source": [
    "import random"
   ]
  },
  {
   "cell_type": "code",
   "execution_count": 4,
   "metadata": {},
   "outputs": [],
   "source": [
    "def adj():return random.choice('蓝色的 | 好看的 | 小小的'.split('|')).split()[0]"
   ]
  },
  {
   "cell_type": "code",
   "execution_count": 5,
   "metadata": {},
   "outputs": [],
   "source": [
    "def adj_star():\n",
    "    return random.choice([lambda : ' ', lambda : adj() + adj_star()])()"
   ]
  },
  {
   "cell_type": "code",
   "execution_count": 6,
   "metadata": {},
   "outputs": [
    {
     "data": {
      "text/plain": [
       "' '"
      ]
     },
     "execution_count": 6,
     "metadata": {},
     "output_type": "execute_result"
    }
   ],
   "source": [
    "adj_star()"
   ]
  },
  {
   "cell_type": "markdown",
   "metadata": {},
   "source": [
    "# 更换语法"
   ]
  },
  {
   "cell_type": "code",
   "execution_count": 7,
   "metadata": {},
   "outputs": [],
   "source": [
    "adj_grammar = \"\"\"\n",
    "Adj* => null | Adj Adj*\n",
    "Adj =>  蓝色的 | 好看的 | 小小的\n",
    "\"\"\""
   ]
  },
  {
   "cell_type": "code",
   "execution_count": 8,
   "metadata": {},
   "outputs": [],
   "source": [
    "def create_grammar(grammar_str, split='=>', line_split='\\n'):\n",
    "    grammar = {}\n",
    "    for line in grammar_str.split(line_split):\n",
    "        if not line.strip(): continue\n",
    "        exp, stmt = line.split(split)\n",
    "        grammar[exp.strip()] = [s.split() for s in stmt.split('|')]\n",
    "    return grammar"
   ]
  },
  {
   "cell_type": "code",
   "execution_count": 9,
   "metadata": {},
   "outputs": [],
   "source": [
    "gram = create_grammar(adj_grammar)"
   ]
  },
  {
   "cell_type": "code",
   "execution_count": 10,
   "metadata": {},
   "outputs": [
    {
     "data": {
      "text/plain": [
       "[['null'], ['Adj', 'Adj*']]"
      ]
     },
     "execution_count": 10,
     "metadata": {},
     "output_type": "execute_result"
    }
   ],
   "source": [
    "gram['Adj*']"
   ]
  },
  {
   "cell_type": "code",
   "execution_count": 11,
   "metadata": {},
   "outputs": [],
   "source": [
    "choice = random.choice\n",
    "\n",
    "def generate(gram, target):\n",
    "    if target not in gram: return target # mean target is a terminal expression\n",
    "    \n",
    "    expaned = [generate(gram, t) for t in choice(gram[target])]\n",
    "    return ''.join([e if e != '/n' else '\\n' for e in expaned if e != 'null'])"
   ]
  },
  {
   "cell_type": "code",
   "execution_count": 12,
   "metadata": {},
   "outputs": [],
   "source": [
    "example_grammar = create_grammar(simple_grammar, '=>', '\\n')"
   ]
  },
  {
   "cell_type": "code",
   "execution_count": 13,
   "metadata": {},
   "outputs": [
    {
     "data": {
      "text/plain": [
       "{'sentence': [['noun_phrase', 'verb_phrase']],\n",
       " 'noun_phrase': [['Article', 'Adj*', 'noun']],\n",
       " 'Adj*': [['null'], ['Adj', 'Adj*']],\n",
       " 'verb_phrase': [['verb', 'noun_phrase']],\n",
       " 'Article': [['一个'], ['这个']],\n",
       " 'noun': [['女人'], ['篮球'], ['桌子'], ['小猫']],\n",
       " 'verb': [['看着'], ['坐在'], ['听着'], ['看见']],\n",
       " 'Adj': [['蓝色的'], ['好看的'], ['小小的']]}"
      ]
     },
     "execution_count": 13,
     "metadata": {},
     "output_type": "execute_result"
    }
   ],
   "source": [
    "example_grammar"
   ]
  },
  {
   "cell_type": "code",
   "execution_count": 14,
   "metadata": {},
   "outputs": [
    {
     "data": {
      "text/plain": [
       "'一个小猫坐在一个小猫'"
      ]
     },
     "execution_count": 14,
     "metadata": {},
     "output_type": "execute_result"
    }
   ],
   "source": [
    "generate(gram = example_grammar, target = 'sentence')"
   ]
  },
  {
   "cell_type": "code",
   "execution_count": 15,
   "metadata": {},
   "outputs": [],
   "source": [
    "#在西部世界里，一个”人类“的语言可以定义为：\n",
    "\n",
    "human = \"\"\"\n",
    "human = 自己 寻找 活动\n",
    "自己 = 我 | 俺 | 我们 \n",
    "寻找 = 找找 | 想找点 \n",
    "活动 = 乐子 | 玩的\n",
    "\"\"\"\n",
    "\n",
    "\n",
    "#一个“接待员”的语言可以定义为\n",
    "\n",
    "host = \"\"\"\n",
    "host = 寒暄 报数 询问 业务相关 结尾 \n",
    "报数 = 我是 数字 号 ,\n",
    "数字 = 单个数字 | 数字 单个数字 \n",
    "单个数字 = 1 | 2 | 3 | 4 | 5 | 6 | 7 | 8 | 9 \n",
    "寒暄 = 称谓 打招呼 | 打招呼\n",
    "称谓 = 人称 ,\n",
    "人称 = 先生 | 女士 | 小朋友\n",
    "打招呼 = 你好 | 您好 \n",
    "询问 = 请问你要 | 您需要\n",
    "业务相关 = 玩玩 具体业务\n",
    "玩玩 = null\n",
    "具体业务 = 喝酒 | 打牌 | 打猎 | 赌博\n",
    "结尾 = 吗？\n",
    "\"\"\""
   ]
  },
  {
   "cell_type": "code",
   "execution_count": 16,
   "metadata": {},
   "outputs": [
    {
     "name": "stdout",
     "output_type": "stream",
     "text": [
      "先生,您好我是6号,请问你要喝酒吗？\n",
      "您好我是3号,您需要打猎吗？\n",
      "先生,您好我是91号,请问你要打猎吗？\n",
      "你好我是867号,请问你要赌博吗？\n",
      "小朋友,你好我是5号,您需要赌博吗？\n"
     ]
    }
   ],
   "source": [
    "for i in range(5):\n",
    "    print(generate(gram = create_grammar(host, split = '='), target = 'host'))"
   ]
  },
  {
   "cell_type": "code",
   "execution_count": 17,
   "metadata": {},
   "outputs": [
    {
     "name": "stdout",
     "output_type": "stream",
     "text": [
      "俺想找点乐子\n",
      "我们想找点乐子\n",
      "我找找玩的\n",
      "我们找找乐子\n",
      "俺想找点乐子\n"
     ]
    }
   ],
   "source": [
    "for j in range(5):\n",
    "    print(generate(gram = create_grammar(human, split = '='), target = 'human'))"
   ]
  },
  {
   "cell_type": "code",
   "execution_count": 18,
   "metadata": {},
   "outputs": [],
   "source": [
    "programming = \"\"\"\n",
    "stmt => if_exp | while_exp | assignment \n",
    "assignment => var = var\n",
    "if_exp => if ( var ) { /n .... stmt }\n",
    "while_exp=> while ( var ) { /n .... stmt }\n",
    "var => chars number\n",
    "chars => char | char char\n",
    "char => student | name | info  | database | course\n",
    "number => 1 | 2 | 3\n",
    "\"\"\""
   ]
  },
  {
   "cell_type": "code",
   "execution_count": 19,
   "metadata": {},
   "outputs": [
    {
     "data": {
      "text/plain": [
       "'俺想找点玩的'"
      ]
     },
     "execution_count": 19,
     "metadata": {},
     "output_type": "execute_result"
    }
   ],
   "source": [
    "generate(gram = create_grammar(human, split = '='), target = 'human')"
   ]
  },
  {
   "cell_type": "code",
   "execution_count": 20,
   "metadata": {},
   "outputs": [],
   "source": [
    "programming = \"\"\"\n",
    "stmt => if_exp | while_exp | assignment \n",
    "assignment => var = var\n",
    "if_exp => if ( var ) { /n .... stmt }\n",
    "while_exp=> while ( var ) { /n .... stmt }\n",
    "var => chars number\n",
    "chars => char | char char\n",
    "char => student | name | info  | database | course\n",
    "number => 1 | 2 | 3\n",
    "\"\"\""
   ]
  },
  {
   "cell_type": "code",
   "execution_count": 21,
   "metadata": {},
   "outputs": [
    {
     "data": {
      "text/plain": [
       "'if(info1){\\n....if(name3){\\n....while(studentname1){\\n....while(namecourse1){\\n....if(infoinfo1){\\n....databasestudent1=database1}}}}}'"
      ]
     },
     "execution_count": 21,
     "metadata": {},
     "output_type": "execute_result"
    }
   ],
   "source": [
    "generate(gram = create_grammar(programming, split = '=>'), target = 'stmt')"
   ]
  },
  {
   "cell_type": "markdown",
   "metadata": {},
   "source": [
    "#next task"
   ]
  },
  {
   "cell_type": "code",
   "execution_count": 22,
   "metadata": {},
   "outputs": [],
   "source": [
    "filename = \"/Users/zhuxiang/Desktop/export_sql_1558435/sqlResult_1558435.csv\""
   ]
  },
  {
   "cell_type": "code",
   "execution_count": 23,
   "metadata": {},
   "outputs": [],
   "source": [
    "import pandas as pd"
   ]
  },
  {
   "cell_type": "code",
   "execution_count": 24,
   "metadata": {},
   "outputs": [],
   "source": [
    "content = pd.read_csv(filename, encoding = 'gb18030')"
   ]
  },
  {
   "cell_type": "code",
   "execution_count": 25,
   "metadata": {},
   "outputs": [
    {
     "data": {
      "text/html": [
       "<div>\n",
       "<style scoped>\n",
       "    .dataframe tbody tr th:only-of-type {\n",
       "        vertical-align: middle;\n",
       "    }\n",
       "\n",
       "    .dataframe tbody tr th {\n",
       "        vertical-align: top;\n",
       "    }\n",
       "\n",
       "    .dataframe thead th {\n",
       "        text-align: right;\n",
       "    }\n",
       "</style>\n",
       "<table border=\"1\" class=\"dataframe\">\n",
       "  <thead>\n",
       "    <tr style=\"text-align: right;\">\n",
       "      <th></th>\n",
       "      <th>id</th>\n",
       "      <th>author</th>\n",
       "      <th>source</th>\n",
       "      <th>content</th>\n",
       "      <th>feature</th>\n",
       "      <th>title</th>\n",
       "      <th>url</th>\n",
       "    </tr>\n",
       "  </thead>\n",
       "  <tbody>\n",
       "    <tr>\n",
       "      <th>0</th>\n",
       "      <td>89617</td>\n",
       "      <td>NaN</td>\n",
       "      <td>快科技@http://www.kkj.cn/</td>\n",
       "      <td>此外，自本周（6月12日）起，除小米手机6等15款机型外，其余机型已暂停更新发布（含开发版/...</td>\n",
       "      <td>{\"type\":\"科技\",\"site\":\"cnbeta\",\"commentNum\":\"37\"...</td>\n",
       "      <td>小米MIUI 9首批机型曝光：共计15款</td>\n",
       "      <td>http://www.cnbeta.com/articles/tech/623597.htm</td>\n",
       "    </tr>\n",
       "    <tr>\n",
       "      <th>1</th>\n",
       "      <td>89616</td>\n",
       "      <td>NaN</td>\n",
       "      <td>快科技@http://www.kkj.cn/</td>\n",
       "      <td>骁龙835作为唯一通过Windows 10桌面平台认证的ARM处理器，高通强调，不会因为只考...</td>\n",
       "      <td>{\"type\":\"科技\",\"site\":\"cnbeta\",\"commentNum\":\"15\"...</td>\n",
       "      <td>骁龙835在Windows 10上的性能表现有望改善</td>\n",
       "      <td>http://www.cnbeta.com/articles/tech/623599.htm</td>\n",
       "    </tr>\n",
       "    <tr>\n",
       "      <th>2</th>\n",
       "      <td>89615</td>\n",
       "      <td>NaN</td>\n",
       "      <td>快科技@http://www.kkj.cn/</td>\n",
       "      <td>此前的一加3T搭载的是3400mAh电池，DashCharge快充规格为5V/4A。\\r\\n...</td>\n",
       "      <td>{\"type\":\"科技\",\"site\":\"cnbeta\",\"commentNum\":\"18\"...</td>\n",
       "      <td>一加手机5细节曝光：3300mAh、充半小时用1天</td>\n",
       "      <td>http://www.cnbeta.com/articles/tech/623601.htm</td>\n",
       "    </tr>\n",
       "    <tr>\n",
       "      <th>3</th>\n",
       "      <td>89614</td>\n",
       "      <td>NaN</td>\n",
       "      <td>新华社</td>\n",
       "      <td>这是6月18日在葡萄牙中部大佩德罗冈地区拍摄的被森林大火烧毁的汽车。新华社记者张立云摄\\r\\n</td>\n",
       "      <td>{\"type\":\"国际新闻\",\"site\":\"环球\",\"commentNum\":\"0\",\"j...</td>\n",
       "      <td>葡森林火灾造成至少62人死亡 政府宣布进入紧急状态（组图）</td>\n",
       "      <td>http://world.huanqiu.com/hot/2017-06/10866126....</td>\n",
       "    </tr>\n",
       "    <tr>\n",
       "      <th>4</th>\n",
       "      <td>89613</td>\n",
       "      <td>胡淑丽_MN7479</td>\n",
       "      <td>深圳大件事</td>\n",
       "      <td>（原标题：44岁女子跑深圳约会网友被拒，暴雨中裸身奔走……）\\r\\n@深圳交警微博称：昨日清...</td>\n",
       "      <td>{\"type\":\"新闻\",\"site\":\"网易热门\",\"commentNum\":\"978\",...</td>\n",
       "      <td>44岁女子约网友被拒暴雨中裸奔 交警为其披衣相随</td>\n",
       "      <td>http://news.163.com/17/0618/00/CN617P3Q0001875...</td>\n",
       "    </tr>\n",
       "  </tbody>\n",
       "</table>\n",
       "</div>"
      ],
      "text/plain": [
       "      id      author                  source  \\\n",
       "0  89617         NaN  快科技@http://www.kkj.cn/   \n",
       "1  89616         NaN  快科技@http://www.kkj.cn/   \n",
       "2  89615         NaN  快科技@http://www.kkj.cn/   \n",
       "3  89614         NaN                     新华社   \n",
       "4  89613  胡淑丽_MN7479                   深圳大件事   \n",
       "\n",
       "                                             content  \\\n",
       "0  此外，自本周（6月12日）起，除小米手机6等15款机型外，其余机型已暂停更新发布（含开发版/...   \n",
       "1  骁龙835作为唯一通过Windows 10桌面平台认证的ARM处理器，高通强调，不会因为只考...   \n",
       "2  此前的一加3T搭载的是3400mAh电池，DashCharge快充规格为5V/4A。\\r\\n...   \n",
       "3    这是6月18日在葡萄牙中部大佩德罗冈地区拍摄的被森林大火烧毁的汽车。新华社记者张立云摄\\r\\n   \n",
       "4  （原标题：44岁女子跑深圳约会网友被拒，暴雨中裸身奔走……）\\r\\n@深圳交警微博称：昨日清...   \n",
       "\n",
       "                                             feature  \\\n",
       "0  {\"type\":\"科技\",\"site\":\"cnbeta\",\"commentNum\":\"37\"...   \n",
       "1  {\"type\":\"科技\",\"site\":\"cnbeta\",\"commentNum\":\"15\"...   \n",
       "2  {\"type\":\"科技\",\"site\":\"cnbeta\",\"commentNum\":\"18\"...   \n",
       "3  {\"type\":\"国际新闻\",\"site\":\"环球\",\"commentNum\":\"0\",\"j...   \n",
       "4  {\"type\":\"新闻\",\"site\":\"网易热门\",\"commentNum\":\"978\",...   \n",
       "\n",
       "                           title  \\\n",
       "0           小米MIUI 9首批机型曝光：共计15款   \n",
       "1     骁龙835在Windows 10上的性能表现有望改善   \n",
       "2      一加手机5细节曝光：3300mAh、充半小时用1天   \n",
       "3  葡森林火灾造成至少62人死亡 政府宣布进入紧急状态（组图）   \n",
       "4       44岁女子约网友被拒暴雨中裸奔 交警为其披衣相随   \n",
       "\n",
       "                                                 url  \n",
       "0     http://www.cnbeta.com/articles/tech/623597.htm  \n",
       "1     http://www.cnbeta.com/articles/tech/623599.htm  \n",
       "2     http://www.cnbeta.com/articles/tech/623601.htm  \n",
       "3  http://world.huanqiu.com/hot/2017-06/10866126....  \n",
       "4  http://news.163.com/17/0618/00/CN617P3Q0001875...  "
      ]
     },
     "execution_count": 25,
     "metadata": {},
     "output_type": "execute_result"
    }
   ],
   "source": [
    "content.head()"
   ]
  },
  {
   "cell_type": "code",
   "execution_count": 26,
   "metadata": {},
   "outputs": [],
   "source": [
    "articles = content['content'].tolist()"
   ]
  },
  {
   "cell_type": "code",
   "execution_count": 27,
   "metadata": {},
   "outputs": [
    {
     "data": {
      "text/plain": [
       "89611"
      ]
     },
     "execution_count": 27,
     "metadata": {},
     "output_type": "execute_result"
    }
   ],
   "source": [
    "len(articles)"
   ]
  },
  {
   "cell_type": "code",
   "execution_count": 28,
   "metadata": {},
   "outputs": [],
   "source": [
    "import re"
   ]
  },
  {
   "cell_type": "code",
   "execution_count": 29,
   "metadata": {},
   "outputs": [],
   "source": [
    "def token(string):\n",
    "    return re.findall('\\w+', string)"
   ]
  },
  {
   "cell_type": "code",
   "execution_count": 30,
   "metadata": {},
   "outputs": [],
   "source": [
    "from collections import Counter"
   ]
  },
  {
   "cell_type": "code",
   "execution_count": 31,
   "metadata": {},
   "outputs": [],
   "source": [
    "import jieba"
   ]
  },
  {
   "cell_type": "code",
   "execution_count": 32,
   "metadata": {},
   "outputs": [
    {
     "name": "stderr",
     "output_type": "stream",
     "text": [
      "Building prefix dict from the default dictionary ...\n",
      "Loading model from cache C:\\Users\\zhuxiang\\AppData\\Local\\Temp\\jieba.cache\n",
      "Loading model cost 1.602 seconds.\n",
      "Prefix dict has been built succesfully.\n"
     ]
    }
   ],
   "source": [
    "with_jieba_cut = Counter(jieba.cut(articles[110]))"
   ]
  },
  {
   "cell_type": "code",
   "execution_count": 33,
   "metadata": {},
   "outputs": [
    {
     "data": {
      "text/plain": [
       "[('，', 88),\n",
       " ('的', 73),\n",
       " ('。', 39),\n",
       " ('\\r\\n', 27),\n",
       " ('了', 20),\n",
       " ('们', 18),\n",
       " ('工作队', 16),\n",
       " ('村民', 15),\n",
       " ('收割', 14),\n",
       " ('、', 12)]"
      ]
     },
     "execution_count": 33,
     "metadata": {},
     "output_type": "execute_result"
    }
   ],
   "source": [
    "with_jieba_cut.most_common()[:10]"
   ]
  },
  {
   "cell_type": "code",
   "execution_count": 34,
   "metadata": {},
   "outputs": [
    {
     "data": {
      "text/plain": [
       "'在外国名著麦田里的守望者中作者想要守护麦田里如自己内心一般纯真的孩子们而驻村干部们也在这个炎热的夏天里撸袖子上阵真正做起了村民们的麦田守望者三夏时节不等人你看到了吗不停翻涌起伏仿若铺陈至天边的金黄麦浪中那若隐若现的人影是自治区新闻出版广电局驻和田市肖尔巴格乡合尼村工作队的队员与工作队组织的青年志愿者在这个炎热的夏季他们深入田间地头帮助村民们收割小麦扛起收麦机麦田中的每个人都显得兴致勃勃一天下来就近22亩小麦收割完毕志愿者麦麦提亚森擦去满脸的汗水高兴地告诉驻村队员我们青年志愿者应该多做贡献为村里的脱贫致富出把力工作队带着我们为村里的老人服务看到那些像我爷爷奶奶一样的老人赞许感谢的目光我体会到了帮助他人的快乐自治区新闻出版广电局驻村工作队孙敏艾力依布拉音麦收时节我们在一起6月中旬的和田墨玉麦田金黄静待收割6月14日15日两天自治区高级人民法院驻和田地区墨玉县吐外特乡罕勒克艾日克村工作队与48名村民志愿者一道帮助村里29户有需要的村民进行小麦收割工作田间地头罕勒克艾日克村志愿队的红旗迎风飘扬格外醒目10余台割麦机一起轰鸣男人们在用机器收割小麦的同时几名妇女也加入到志愿队构成了一道美丽的麦收风景休息空闲工作队员和村民们坐在树荫下田埂上互相问好聊天语言交流有困难就用手势动作比划着聊天有趣地交流方式不时引来阵阵欢笑大家在一同享受丰收和喜悦也一同增进着彼此的情感和友谊自治区高级人民法院驻村工作队周春梅艾地艾木阿不拉细看稻菽千重浪6月15日自治区煤田灭火工程局的干部职工们再一次跋涉1000多公里来到了叶城县萨依巴格乡阿亚格欧尔达贝格村见到了自己的亲戚现场处处都透出掩盖不住的喜悦一声声亲切的谢谢一个个结实的拥抱都透露出浓浓的亲情没坐一会儿在嘘寒问暖中大家了解到在麦收的关键时刻部分村民家中却存在收割难的问题小麦成熟期短收获的时间集中天气的变化对小麦最终产量的影响极大如果不能及时收割会有不小损失的于是大家几乎立刻就决定要帮助亲戚们收割麦子在茂密的麦地里干部们每人手持一把镰刀一字排开挽起衣袖卷起裤腿挥舞着镰刀进行着无声的竞赛骄阳似火汗如雨下但这都挡不住大家的热情随着此起彼伏的镰刀割倒麦子的刷刷声响不一会一束束沉甸甸的麦穗就被整齐地堆放了起来当看到自己亲手收割的金黄色麦穗被一簇簇地打成捆运送到晒场每个人的脸上都露出了灿烂的笑容自治区煤田灭火工程局驻村工作队马浩南这是一个收获多多的季节6月13日清晨6时许和田地区民丰县若雅乡特开墩村的麦田里已经传来马达轰鸣声原来是自治区质监局驻村工作队趁着天气尚且凉爽开始了麦田的收割工作忙碌间隙志愿者队伍搬来清凉的水村民们拎来鲜甜的西瓜抹一把汗水吃一牙西瓜甜蜜的汁水似乎流进了每一个人的心里说起割麦子对于生活在这片土地上的村民来说是再平常不过的事但是对于工作队队员们来说却是陌生的自治区质监局驻民丰县若克雅乡博斯坦村工作队队员们一开始觉得十几个人一起收割二亩地应该会挺快的结果却一点不简单镰刀拿到自己手里割起来考验才真正的开始大家弓着腰弯着腿亦步亦趋手上挥舞着镰刀时刻注意不要让镰刀割到自己脚下还要留心不要把套种的玉米苗踩伤不一会儿就已经汗流浃背了抬头看看身边的村民早就远远地割到前面去了只有今年已经56岁的工作队队长李树刚有割麦经验多少给队员们挽回了些面子赶不上村民们割麦子的速度更不要说搞定收割机这台大家伙了现代化的机械收割能成倍提升小麦的收割速度李树刚说不过能有这样的体验拉近和村民的距离也是很难得的体验自治区质监局驻村工作队王辉马君刚我们是麦田的守护者为了应对麦收新疆银监局驻和田县塔瓦库勒乡也先巴扎村工作队一早就从经济支援和人力支援两方面做好了准备一方面工作队帮村里购入了5台小麦收割机另一边还组织村干部青年团员等组成了6支近百人的收割先锋突击队帮助村民们抢收麦子看着及时归仓的麦子村民们喜得合不拢嘴纷纷摘下自家杏树上的杏子送给工作队金黄的麦穗温暖了村民们的心香甜的杏子温暖了工作队员的心麦子加杏子拉近了村民和队员们的心新疆银监局驻村工作队王继发免责声明本文仅代表作者个人观点与环球网无关其原创性以及文中陈述文字和内容未经本站证实对本文以及其中全部或者部分内容文字的真实性完整性及时性本站不作任何保证或承诺请读者仅作参考并请自行核实相关内容'"
      ]
     },
     "execution_count": 34,
     "metadata": {},
     "output_type": "execute_result"
    }
   ],
   "source": [
    "''.join(token(articles[110]))"
   ]
  },
  {
   "cell_type": "code",
   "execution_count": 35,
   "metadata": {},
   "outputs": [],
   "source": [
    "articles_clean = [''.join(token(str(a))) for a in articles]"
   ]
  },
  {
   "cell_type": "code",
   "execution_count": 36,
   "metadata": {},
   "outputs": [
    {
     "data": {
      "text/plain": [
       "89611"
      ]
     },
     "execution_count": 36,
     "metadata": {},
     "output_type": "execute_result"
    }
   ],
   "source": [
    "len(articles_clean)"
   ]
  },
  {
   "cell_type": "code",
   "execution_count": 37,
   "metadata": {},
   "outputs": [],
   "source": [
    "with open ('articles_9k.txt', 'w') as f:\n",
    "    for a in articles_clean:\n",
    "        f.write(a + '\\n')"
   ]
  },
  {
   "cell_type": "code",
   "execution_count": 38,
   "metadata": {},
   "outputs": [],
   "source": [
    "def cut(string):return list(jieba.cut(string))"
   ]
  },
  {
   "cell_type": "code",
   "execution_count": 39,
   "metadata": {},
   "outputs": [
    {
     "name": "stdout",
     "output_type": "stream",
     "text": [
      "0\n",
      "100\n",
      "200\n",
      "300\n",
      "400\n",
      "500\n",
      "600\n",
      "700\n",
      "800\n",
      "900\n",
      "1000\n"
     ]
    }
   ],
   "source": [
    "TOKEN = []\n",
    "for i, line in enumerate((open('articles_9k.txt'))):\n",
    "    if i % 100 == 0: print(i)\n",
    "        \n",
    "    if i > 1000:break\n",
    "    TOKEN += cut(line)"
   ]
  },
  {
   "cell_type": "code",
   "execution_count": 40,
   "metadata": {},
   "outputs": [],
   "source": [
    "from functools import reduce"
   ]
  },
  {
   "cell_type": "code",
   "execution_count": 41,
   "metadata": {},
   "outputs": [],
   "source": [
    "from operator import add, mul"
   ]
  },
  {
   "cell_type": "code",
   "execution_count": 42,
   "metadata": {},
   "outputs": [
    {
     "data": {
      "text/plain": [
       "15"
      ]
     },
     "execution_count": 42,
     "metadata": {},
     "output_type": "execute_result"
    }
   ],
   "source": [
    "reduce(add, [1, 2, 3, 4, 5])"
   ]
  },
  {
   "cell_type": "code",
   "execution_count": 43,
   "metadata": {},
   "outputs": [],
   "source": [
    "from collections import Counter"
   ]
  },
  {
   "cell_type": "code",
   "execution_count": 44,
   "metadata": {},
   "outputs": [],
   "source": [
    "words_count = Counter(TOKEN)"
   ]
  },
  {
   "cell_type": "code",
   "execution_count": 45,
   "metadata": {},
   "outputs": [
    {
     "data": {
      "text/plain": [
       "[('的', 23751),\n",
       " ('在', 6161),\n",
       " ('了', 5477),\n",
       " ('是', 3993),\n",
       " ('和', 3471),\n",
       " ('也', 2085),\n",
       " ('有', 2002),\n",
       " ('月', 1999),\n",
       " ('将', 1746),\n",
       " ('他', 1619),\n",
       " ('年', 1611),\n",
       " ('对', 1443),\n",
       " ('等', 1423),\n",
       " ('都', 1417),\n",
       " ('为', 1387),\n",
       " ('日', 1351),\n",
       " ('中', 1332),\n",
       " ('不', 1314),\n",
       " ('上', 1307),\n",
       " ('与', 1281),\n",
       " ('就', 1277),\n",
       " ('我', 1261),\n",
       " ('被', 1249),\n",
       " ('中国', 1236),\n",
       " ('6', 1230),\n",
       " ('到', 1172),\n",
       " ('人', 1094),\n",
       " ('这', 1069),\n",
       " ('但', 1051),\n",
       " ('\\n', 1001),\n",
       " ('一个', 984),\n",
       " ('后', 953),\n",
       " ('从', 951),\n",
       " ('还', 919),\n",
       " ('说', 911),\n",
       " ('并', 899),\n",
       " ('我们', 895),\n",
       " ('会', 843),\n",
       " ('而', 806),\n",
       " ('没有', 791),\n",
       " ('市场', 767),\n",
       " ('表示', 730),\n",
       " ('记者', 724),\n",
       " ('让', 717),\n",
       " ('进行', 685),\n",
       " ('要', 683),\n",
       " ('已经', 672),\n",
       " ('可以', 670),\n",
       " ('自己', 670),\n",
       " ('个', 657),\n",
       " ('他们', 645),\n",
       " ('时', 625),\n",
       " ('以', 622),\n",
       " ('发展', 620),\n",
       " ('下', 616),\n",
       " ('公司', 606),\n",
       " ('更', 567),\n",
       " ('5', 561),\n",
       " ('着', 557),\n",
       " ('你', 555),\n",
       " ('这个', 546),\n",
       " ('就是', 533),\n",
       " ('多', 521),\n",
       " ('能', 511),\n",
       " ('其', 507),\n",
       " ('目前', 505),\n",
       " ('可能', 504),\n",
       " ('企业', 485),\n",
       " ('3', 483),\n",
       " ('旅游', 483),\n",
       " ('通过', 481),\n",
       " ('她', 477),\n",
       " ('给', 472),\n",
       " ('时间', 471),\n",
       " ('北京', 470),\n",
       " ('1', 469),\n",
       " ('把', 467),\n",
       " ('工作', 464),\n",
       " ('新', 458),\n",
       " ('问题', 453),\n",
       " ('地', 452),\n",
       " ('很', 444),\n",
       " ('大', 440),\n",
       " ('来', 438),\n",
       " ('其中', 425),\n",
       " ('去', 423),\n",
       " ('里', 423),\n",
       " ('成为', 421),\n",
       " ('已', 414),\n",
       " ('4', 412),\n",
       " ('以及', 411),\n",
       " ('美国', 409),\n",
       " ('又', 399),\n",
       " ('20', 397),\n",
       " ('向', 394),\n",
       " ('10', 389),\n",
       " ('做', 387),\n",
       " ('投资', 381),\n",
       " ('2', 380),\n",
       " ('认为', 378)]"
      ]
     },
     "execution_count": 45,
     "metadata": {},
     "output_type": "execute_result"
    }
   ],
   "source": [
    "words_count.most_common(100)"
   ]
  },
  {
   "cell_type": "code",
   "execution_count": 46,
   "metadata": {},
   "outputs": [],
   "source": [
    "frequiences = [f for w, f in words_count.most_common(100)]"
   ]
  },
  {
   "cell_type": "code",
   "execution_count": 47,
   "metadata": {},
   "outputs": [],
   "source": [
    "x = [i for i in range(100)]"
   ]
  },
  {
   "cell_type": "code",
   "execution_count": 48,
   "metadata": {},
   "outputs": [],
   "source": [
    "import matplotlib.pyplot as plt"
   ]
  },
  {
   "cell_type": "code",
   "execution_count": 49,
   "metadata": {},
   "outputs": [
    {
     "data": {
      "text/plain": [
       "[<matplotlib.lines.Line2D at 0x20d5a464278>]"
      ]
     },
     "execution_count": 49,
     "metadata": {},
     "output_type": "execute_result"
    },
    {
     "data": {
      "image/png": "[encoded data removed]",
      "text/plain": [
       "<Figure size 432x288 with 1 Axes>"
      ]
     },
     "metadata": {
      "needs_background": "light"
     },
     "output_type": "display_data"
    }
   ],
   "source": [
    "plt.plot(x, frequiences)"
   ]
  },
  {
   "cell_type": "code",
   "execution_count": 50,
   "metadata": {},
   "outputs": [],
   "source": [
    "import numpy as np"
   ]
  },
  {
   "cell_type": "code",
   "execution_count": 51,
   "metadata": {},
   "outputs": [
    {
     "data": {
      "text/plain": [
       "[<matplotlib.lines.Line2D at 0x20d5a4f4710>]"
      ]
     },
     "execution_count": 51,
     "metadata": {},
     "output_type": "execute_result"
    },
    {
     "data": {
      "image/png": "[encoded data removed]",
      "text/plain": [
       "<Figure size 432x288 with 1 Axes>"
      ]
     },
     "metadata": {
      "needs_background": "light"
     },
     "output_type": "display_data"
    }
   ],
   "source": [
    "plt.plot(x, np.log(frequiences))"
   ]
  },
  {
   "cell_type": "code",
   "execution_count": 52,
   "metadata": {},
   "outputs": [],
   "source": [
    "def prob_1(word):\n",
    "    return words_count[word] / len(TOKEN)"
   ]
  },
  {
   "cell_type": "code",
   "execution_count": 53,
   "metadata": {},
   "outputs": [
    {
     "data": {
      "text/plain": [
       "0.00202712956189087"
      ]
     },
     "execution_count": 53,
     "metadata": {},
     "output_type": "execute_result"
    }
   ],
   "source": [
    "prob_1('我们')"
   ]
  },
  {
   "cell_type": "code",
   "execution_count": 54,
   "metadata": {},
   "outputs": [
    {
     "data": {
      "text/plain": [
       "['此外', '自', '本周', '6', '月', '12', '日起', '除', '小米', '手机']"
      ]
     },
     "execution_count": 54,
     "metadata": {},
     "output_type": "execute_result"
    }
   ],
   "source": [
    "TOKEN[:10]"
   ]
  },
  {
   "cell_type": "code",
   "execution_count": 55,
   "metadata": {},
   "outputs": [],
   "source": [
    "TOKEN = [str(t) for t in TOKEN]"
   ]
  },
  {
   "cell_type": "code",
   "execution_count": 56,
   "metadata": {},
   "outputs": [],
   "source": [
    "TOKEN_2_GRAM = [''.join(TOKEN[i:i+2]) for i in range(len(TOKEN[:-2]))]"
   ]
  },
  {
   "cell_type": "code",
   "execution_count": 57,
   "metadata": {},
   "outputs": [
    {
     "data": {
      "text/plain": [
       "['此外自', '自本周', '本周6', '6月', '月12', '12日起', '日起除', '除小米', '小米手机', '手机6']"
      ]
     },
     "execution_count": 57,
     "metadata": {},
     "output_type": "execute_result"
    }
   ],
   "source": [
    "TOKEN_2_GRAM[:10]"
   ]
  },
  {
   "cell_type": "code",
   "execution_count": 58,
   "metadata": {},
   "outputs": [],
   "source": [
    "words_count_2 = Counter(TOKEN_2_GRAM)"
   ]
  },
  {
   "cell_type": "code",
   "execution_count": 59,
   "metadata": {},
   "outputs": [],
   "source": [
    "def prob_1(word): return words_count[word] / len(TOKEN)"
   ]
  },
  {
   "cell_type": "code",
   "execution_count": 60,
   "metadata": {},
   "outputs": [],
   "source": [
    "def prob_2(word1, word2):\n",
    "    if word1 + word2 in words_count_2: return words_count_2[word1 + word2] / len(TOKEN_2_GRAM)\n",
    "    else:\n",
    "        return 1 / len(TOKEN_2_GRAM)"
   ]
  },
  {
   "cell_type": "code",
   "execution_count": 61,
   "metadata": {},
   "outputs": [
    {
     "data": {
      "text/plain": [
       "5.20940682975885e-05"
      ]
     },
     "execution_count": 61,
     "metadata": {},
     "output_type": "execute_result"
    }
   ],
   "source": [
    "prob_2('我们', '在')"
   ]
  },
  {
   "cell_type": "code",
   "execution_count": 62,
   "metadata": {},
   "outputs": [
    {
     "data": {
      "text/plain": [
       "2.2649594911995e-06"
      ]
     },
     "execution_count": 62,
     "metadata": {},
     "output_type": "execute_result"
    }
   ],
   "source": [
    "prob_2('在', '吃饭')"
   ]
  },
  {
   "cell_type": "code",
   "execution_count": 63,
   "metadata": {},
   "outputs": [],
   "source": [
    "def get_probablity(sentence):\n",
    "    words = cut(sentence)\n",
    "    \n",
    "    sentence_pro = 1\n",
    "    \n",
    "    for i, word in enumerate(words[:-1]):\n",
    "        next_ = words[i+1]\n",
    "        \n",
    "        probability = prob_2(word, next_)\n",
    "        \n",
    "        sentence_pro *= probability\n",
    "    \n",
    "    return sentence_pro"
   ]
  },
  {
   "cell_type": "code",
   "execution_count": 64,
   "metadata": {},
   "outputs": [
    {
     "data": {
      "text/plain": [
       "8.100538393554692e-34"
      ]
     },
     "execution_count": 64,
     "metadata": {},
     "output_type": "execute_result"
    }
   ],
   "source": [
    "get_probablity('小明今天抽奖抽到一台苹果手机')"
   ]
  },
  {
   "cell_type": "code",
   "execution_count": 65,
   "metadata": {},
   "outputs": [
    {
     "data": {
      "text/plain": [
       "1.3500897322591154e-34"
      ]
     },
     "execution_count": 65,
     "metadata": {},
     "output_type": "execute_result"
    }
   ],
   "source": [
    "get_probablity('小明今天抽奖抽到一架波音飞机')"
   ]
  },
  {
   "cell_type": "code",
   "execution_count": 66,
   "metadata": {},
   "outputs": [
    {
     "data": {
      "text/plain": [
       "1.1619336178367143e-17"
      ]
     },
     "execution_count": 66,
     "metadata": {},
     "output_type": "execute_result"
    }
   ],
   "source": [
    "get_probablity('洋葱奶昔来一杯')"
   ]
  },
  {
   "cell_type": "code",
   "execution_count": 67,
   "metadata": {},
   "outputs": [
    {
     "data": {
      "text/plain": [
       "5.130041496774698e-12"
      ]
     },
     "execution_count": 67,
     "metadata": {},
     "output_type": "execute_result"
    }
   ],
   "source": [
    "get_probablity('养乐多绿来一杯')"
   ]
  },
  {
   "cell_type": "code",
   "execution_count": 68,
   "metadata": {},
   "outputs": [
    {
     "data": {
      "text/plain": [
       "1.1619336178367143e-17"
      ]
     },
     "execution_count": 68,
     "metadata": {},
     "output_type": "execute_result"
    }
   ],
   "source": [
    "get_probablity('酸梅绿豆汤来一桶')"
   ]
  },
  {
   "cell_type": "code",
   "execution_count": 69,
   "metadata": {},
   "outputs": [
    {
     "name": "stdout",
     "output_type": "stream",
     "text": [
      "sentence: 一个桌子看见这个小猫 with Prb: 2.6317325758630385e-23\n",
      "sentence: 这个小猫看见一个好看的女人 with Prb: 1.6201076787109385e-33\n",
      "sentence: 一个小小的桌子看见一个蓝色的蓝色的小猫 with Prb: 1.5687146470080346e-51\n",
      "sentence: 这个小猫看着一个好看的蓝色的小小的篮球 with Prb: 4.7061439410241045e-51\n",
      "sentence: 这个小猫看见一个小小的小小的篮球 with Prb: 1.3500897322591154e-34\n",
      "sentence: 一个篮球看见一个好看的桌子 with Prb: 4.050269196777346e-34\n",
      "sentence: 一个小小的蓝色的桌子坐在一个女人 with Prb: 3.0578985530512753e-40\n",
      "sentence: 一个好看的女人听着一个好看的蓝色的好看的小小的小小的蓝色的小小的女人 with Prb: 3.1892818742838555e-99\n",
      "sentence: 这个小小的蓝色的篮球听着一个女人 with Prb: 1.662243924206089e-44\n",
      "sentence: 一个好看的女人看见这个蓝色的篮球 with Prb: 1.6622439242060883e-44\n"
     ]
    }
   ],
   "source": [
    "for sen in [generate(gram = example_grammar, target = 'sentence') for i in range(10)]:\n",
    "    print('sentence: {} with Prb: {}'.format(sen, get_probablity(sen)))"
   ]
  },
  {
   "cell_type": "code",
   "execution_count": 70,
   "metadata": {},
   "outputs": [],
   "source": [
    "need_compared = [\n",
    "    \"今天晚上请你吃大餐，我们一起吃日料 明天晚上请你吃大餐，我们一起吃苹果\",\n",
    "    \"真事一只好看的小猫 真是一只好看的小猫\",\n",
    "    \"今晚我去吃火锅 今晚火锅去吃我\",\n",
    "    \"洋葱奶昔来一杯 养乐多绿来一杯\"\n",
    "]"
   ]
  },
  {
   "cell_type": "code",
   "execution_count": 71,
   "metadata": {},
   "outputs": [
    {
     "name": "stdout",
     "output_type": "stream",
     "text": [
      "明天晚上请你吃大餐，我们一起吃苹果 is more possible\n",
      "---- 今天晚上请你吃大餐，我们一起吃日料 with probablity 7.106150257449043e-57\n",
      "---- 明天晚上请你吃大餐，我们一起吃苹果 with probablity 7.106150257449043e-57\n",
      "真是一只好看的小猫 is more possible\n",
      "---- 真事一只好看的小猫 with probablity 1.7882303027999694e-28\n",
      "---- 真是一只好看的小猫 with probablity 7.895197727589115e-23\n",
      "今晚我去吃火锅 is more possible\n",
      "---- 今晚我去吃火锅 with probablity 1.394320341404057e-16\n",
      "---- 今晚火锅去吃我 with probablity 5.263465151726077e-23\n",
      "养乐多绿来一杯 is more possible\n",
      "---- 洋葱奶昔来一杯 with probablity 1.1619336178367143e-17\n",
      "---- 养乐多绿来一杯 with probablity 5.130041496774698e-12\n"
     ]
    }
   ],
   "source": [
    "for s in need_compared:\n",
    "    s1, s2 = s.split()\n",
    "    p1, p2 = get_probablity(s1), get_probablity(s2)\n",
    "    \n",
    "    better = s1 if p1 > p2 else s2\n",
    "    \n",
    "    print('{} is more possible'.format(better))\n",
    "    print('-'*4 + ' {} with probablity {}'.format(s1, p1))\n",
    "    print('-'*4 + ' {} with probablity {}'.format(s2, p2))"
   ]
  },
  {
   "cell_type": "markdown",
   "metadata": {},
   "source": [
    "#在陌生地方寻求帮助时"
   ]
  },
  {
   "cell_type": "code",
   "execution_count": 72,
   "metadata": {},
   "outputs": [],
   "source": [
    "# 提问者\n",
    "ask = \"\"\"\n",
    "ask => 礼貌用语 尊称 提问 目的地 方式 结尾\n",
    "礼貌用语 => 你好 | 您好 | 打扰一下\n",
    "尊称 => 小哥哥 | 小姐姐 | 大爷 | 大叔 | 阿姨\n",
    "提问 => 请问 | 请\n",
    "目的地 => 图书馆 | 游泳池 | 食堂 | 教室 | 体育馆\n",
    "方式 => 怎么走 | 那里去\n",
    "结尾 => 吗？\n",
    "\"\"\"\n",
    "# 回答者\n",
    "respond = \"\"\"\n",
    "respond => 交通方式 方向 路程 结尾\n",
    "交通方式 => 步行 | 骑车 | 乘车\n",
    "方向 => 向东 | 向南 | 向西 | 向北\n",
    "路程 => 100m | 200m | 500m | 1Km | 5Km\n",
    "结尾 => 就到了 | 就行了\n",
    "\"\"\""
   ]
  },
  {
   "cell_type": "code",
   "execution_count": 73,
   "metadata": {},
   "outputs": [
    {
     "name": "stdout",
     "output_type": "stream",
     "text": [
      "打扰一下阿姨请图书馆那里去吗？\n",
      "你好大叔请问教室怎么走吗？\n",
      "打扰一下小哥哥请问体育馆那里去吗？\n",
      "您好大叔请图书馆怎么走吗？\n",
      "你好小哥哥请食堂那里去吗？\n"
     ]
    }
   ],
   "source": [
    "for i in range(5):\n",
    "    print(generate(gram = create_grammar(ask, split = '=>'),target = 'ask'))"
   ]
  },
  {
   "cell_type": "code",
   "execution_count": 74,
   "metadata": {},
   "outputs": [
    {
     "name": "stdout",
     "output_type": "stream",
     "text": [
      "乘车向西500m就到了\n",
      "步行向西1Km就行了\n",
      "乘车向南1Km就行了\n",
      "乘车向东500m就到了\n",
      "乘车向南1Km就行了\n"
     ]
    }
   ],
   "source": [
    "for i in range(5):\n",
    "    print(generate(gram = create_grammar(respond, split = '=>'), target = 'respond'))"
   ]
  },
  {
   "cell_type": "code",
   "execution_count": 75,
   "metadata": {},
   "outputs": [],
   "source": [
    "AI_human = \"\"\"\n",
    "AI_human = 人物 时间 预定 房间\n",
    "人物 = 我 | 我们 | 我两 | 咱家  \n",
    "时间 = 今晚 | 明晚 | 明早 | 这周六晚\n",
    "预定 = 要 | 订 | 预约\n",
    "房间 = 101房 | 102房 | 105房 | 666房 | 555房 | 434房 | 786房 \n",
    "\"\"\"\n",
    "AI_host = \"\"\"\n",
    "AI_host = 礼貌用语 询问 业务相关 结尾 \n",
    "礼貌用语 = 你好 | 您好 | 您早上好\n",
    "询问 = 确定 | 肯定 | 一定 \n",
    "业务相关 = 需要 | 要 | 购买 \n",
    "结尾 = 吗？\"\"\""
   ]
  },
  {
   "cell_type": "code",
   "execution_count": 76,
   "metadata": {},
   "outputs": [
    {
     "name": "stdout",
     "output_type": "stream",
     "text": [
      "我们这周六晚订105房\n",
      "我两今晚要555房\n",
      "我明晚订102房\n",
      "我们这周六晚要105房\n",
      "我两明早要666房\n"
     ]
    }
   ],
   "source": [
    "for i in range(5):\n",
    "    print(generate(gram = create_grammar(AI_human, split = '='), target = 'AI_human'))"
   ]
  },
  {
   "cell_type": "code",
   "execution_count": 77,
   "metadata": {},
   "outputs": [
    {
     "name": "stdout",
     "output_type": "stream",
     "text": [
      "你好确定需要吗？\n",
      "你好一定购买吗？\n",
      "您好一定需要吗？\n",
      "你好一定需要吗？\n",
      "你好肯定需要吗？\n"
     ]
    }
   ],
   "source": [
    "for i in range(5):\n",
    "    print(generate(gram = create_grammar(AI_host, split = '='), target = 'AI_host'))"
   ]
  },
  {
   "cell_type": "code",
   "execution_count": 78,
   "metadata": {},
   "outputs": [
    {
     "name": "stdout",
     "output_type": "stream",
     "text": [
      "你好肯定需要吗？\n"
     ]
    }
   ],
   "source": [
    "print(generate(gram = create_grammar(AI_host, split = '='), target = 'AI_host'))"
   ]
  },
  {
   "cell_type": "code",
   "execution_count": 79,
   "metadata": {},
   "outputs": [],
   "source": [
    "def generate_n(number):\n",
    "    for i in range(int(number)):\n",
    "        print(generate(gram = create_grammar(AI_host, split = '='), target = 'AI_host'))"
   ]
  },
  {
   "cell_type": "code",
   "execution_count": 80,
   "metadata": {},
   "outputs": [
    {
     "name": "stdout",
     "output_type": "stream",
     "text": [
      "您早上好一定要吗？\n",
      "您好一定需要吗？\n",
      "你好肯定要吗？\n",
      "您早上好确定需要吗？\n",
      "你好肯定购买吗？\n",
      "您早上好确定需要吗？\n",
      "您早上好确定要吗？\n",
      "您早上好确定购买吗？\n",
      "您早上好确定要吗？\n",
      "你好确定需要吗？\n"
     ]
    }
   ],
   "source": [
    "gram = generate_n(10)"
   ]
  },
  {
   "cell_type": "code",
   "execution_count": 81,
   "metadata": {},
   "outputs": [],
   "source": [
    "filename = '/Users/zhuxiang/Documents/NLP/datasource-master/datasource-master/movie_comments.csv'"
   ]
  },
  {
   "cell_type": "code",
   "execution_count": 87,
   "metadata": {},
   "outputs": [],
   "source": [
    "import pandas as pd"
   ]
  },
  {
   "cell_type": "code",
   "execution_count": 162,
   "metadata": {},
   "outputs": [],
   "source": [
    "content_1 = pd.read_csv(filename, low_memory = False)"
   ]
  },
  {
   "cell_type": "code",
   "execution_count": 163,
   "metadata": {},
   "outputs": [
    {
     "data": {
      "text/html": [
       "<div>\n",
       "<style scoped>\n",
       "    .dataframe tbody tr th:only-of-type {\n",
       "        vertical-align: middle;\n",
       "    }\n",
       "\n",
       "    .dataframe tbody tr th {\n",
       "        vertical-align: top;\n",
       "    }\n",
       "\n",
       "    .dataframe thead th {\n",
       "        text-align: right;\n",
       "    }\n",
       "</style>\n",
       "<table border=\"1\" class=\"dataframe\">\n",
       "  <thead>\n",
       "    <tr style=\"text-align: right;\">\n",
       "      <th></th>\n",
       "      <th>id</th>\n",
       "      <th>link</th>\n",
       "      <th>name</th>\n",
       "      <th>comment</th>\n",
       "      <th>star</th>\n",
       "    </tr>\n",
       "  </thead>\n",
       "  <tbody>\n",
       "    <tr>\n",
       "      <th>0</th>\n",
       "      <td>1</td>\n",
       "      <td>https://movie.douban.com/subject/26363254/</td>\n",
       "      <td>战狼2</td>\n",
       "      <td>吴京意淫到了脑残的地步，看了恶心想吐</td>\n",
       "      <td>1</td>\n",
       "    </tr>\n",
       "    <tr>\n",
       "      <th>1</th>\n",
       "      <td>2</td>\n",
       "      <td>https://movie.douban.com/subject/26363254/</td>\n",
       "      <td>战狼2</td>\n",
       "      <td>首映礼看的。太恐怖了这个电影，不讲道理的，完全就是吴京在实现他这个小粉红的英雄梦。各种装备轮...</td>\n",
       "      <td>2</td>\n",
       "    </tr>\n",
       "    <tr>\n",
       "      <th>2</th>\n",
       "      <td>3</td>\n",
       "      <td>https://movie.douban.com/subject/26363254/</td>\n",
       "      <td>战狼2</td>\n",
       "      <td>吴京的炒作水平不输冯小刚，但小刚至少不会用主旋律来炒作…吴京让人看了不舒服，为了主旋律而主旋...</td>\n",
       "      <td>2</td>\n",
       "    </tr>\n",
       "    <tr>\n",
       "      <th>3</th>\n",
       "      <td>4</td>\n",
       "      <td>https://movie.douban.com/subject/26363254/</td>\n",
       "      <td>战狼2</td>\n",
       "      <td>凭良心说，好看到不像《战狼1》的续集，完虐《湄公河行动》。</td>\n",
       "      <td>4</td>\n",
       "    </tr>\n",
       "    <tr>\n",
       "      <th>4</th>\n",
       "      <td>5</td>\n",
       "      <td>https://movie.douban.com/subject/26363254/</td>\n",
       "      <td>战狼2</td>\n",
       "      <td>中二得很</td>\n",
       "      <td>1</td>\n",
       "    </tr>\n",
       "    <tr>\n",
       "      <th>5</th>\n",
       "      <td>6</td>\n",
       "      <td>https://movie.douban.com/subject/26363254/</td>\n",
       "      <td>战狼2</td>\n",
       "      <td>“犯我中华者，虽远必诛”，吴京比这句话还要意淫一百倍。</td>\n",
       "      <td>1</td>\n",
       "    </tr>\n",
       "    <tr>\n",
       "      <th>6</th>\n",
       "      <td>7</td>\n",
       "      <td>https://movie.douban.com/subject/26363254/</td>\n",
       "      <td>战狼2</td>\n",
       "      <td>脑子是个好东西，希望编剧们都能有。</td>\n",
       "      <td>2</td>\n",
       "    </tr>\n",
       "    <tr>\n",
       "      <th>7</th>\n",
       "      <td>8</td>\n",
       "      <td>https://movie.douban.com/subject/26363254/</td>\n",
       "      <td>战狼2</td>\n",
       "      <td>三星半，实打实的7分。第一集在爱国主旋律内部做着各种置换与较劲，但第二集才真正显露吴京的野心...</td>\n",
       "      <td>4</td>\n",
       "    </tr>\n",
       "    <tr>\n",
       "      <th>8</th>\n",
       "      <td>9</td>\n",
       "      <td>https://movie.douban.com/subject/26363254/</td>\n",
       "      <td>战狼2</td>\n",
       "      <td>开篇长镜头惊险大气引人入胜 结合了水平不俗的快剪下实打实的真刀真枪 让人不禁热血沸腾 特别弹...</td>\n",
       "      <td>4</td>\n",
       "    </tr>\n",
       "    <tr>\n",
       "      <th>9</th>\n",
       "      <td>10</td>\n",
       "      <td>https://movie.douban.com/subject/26363254/</td>\n",
       "      <td>战狼2</td>\n",
       "      <td>15/100吴京的冷峰在这部里即像成龙，又像杰森斯坦森，但体制外的同类型电影，主角总是代表个...</td>\n",
       "      <td>1</td>\n",
       "    </tr>\n",
       "    <tr>\n",
       "      <th>10</th>\n",
       "      <td>11</td>\n",
       "      <td>https://movie.douban.com/subject/26363254/</td>\n",
       "      <td>战狼2</td>\n",
       "      <td>犯我中华者虽远必诛，是有多无脑才信这句话。</td>\n",
       "      <td>1</td>\n",
       "    </tr>\n",
       "    <tr>\n",
       "      <th>11</th>\n",
       "      <td>12</td>\n",
       "      <td>https://movie.douban.com/subject/26363254/</td>\n",
       "      <td>战狼2</td>\n",
       "      <td>这部戏让人看的热血沸腾，对吴京路转粉，最后的彩蛋，让我们没有理由不期待下一部。</td>\n",
       "      <td>4</td>\n",
       "    </tr>\n",
       "    <tr>\n",
       "      <th>12</th>\n",
       "      <td>13</td>\n",
       "      <td>https://movie.douban.com/subject/26363254/</td>\n",
       "      <td>战狼2</td>\n",
       "      <td>假嗨，特别恶心的电影。</td>\n",
       "      <td>1</td>\n",
       "    </tr>\n",
       "    <tr>\n",
       "      <th>13</th>\n",
       "      <td>14</td>\n",
       "      <td>https://movie.douban.com/subject/26363254/</td>\n",
       "      <td>战狼2</td>\n",
       "      <td>有几处情节设置过于尴尬，彰显国家自豪感的部分稍显突兀。</td>\n",
       "      <td>2</td>\n",
       "    </tr>\n",
       "    <tr>\n",
       "      <th>14</th>\n",
       "      <td>15</td>\n",
       "      <td>https://movie.douban.com/subject/26363254/</td>\n",
       "      <td>战狼2</td>\n",
       "      <td>就是一部爽片，打戏挺燃，但是故事一般。达康书记不合适这个角色，赵东来倒是很合适。张瀚太太太违...</td>\n",
       "      <td>2</td>\n",
       "    </tr>\n",
       "    <tr>\n",
       "      <th>15</th>\n",
       "      <td>16</td>\n",
       "      <td>https://movie.douban.com/subject/26363254/</td>\n",
       "      <td>战狼2</td>\n",
       "      <td>赵东来：达康书记，我们接到在非洲卧底的冷锋报告，丁义珍现在非洲，我们请求抓捕。李达康：东来，...</td>\n",
       "      <td>5</td>\n",
       "    </tr>\n",
       "    <tr>\n",
       "      <th>16</th>\n",
       "      <td>17</td>\n",
       "      <td>https://movie.douban.com/subject/26363254/</td>\n",
       "      <td>战狼2</td>\n",
       "      <td>下一部拍喜剧吧，整个片子真感觉挺搞笑的</td>\n",
       "      <td>2</td>\n",
       "    </tr>\n",
       "    <tr>\n",
       "      <th>17</th>\n",
       "      <td>18</td>\n",
       "      <td>https://movie.douban.com/subject/26363254/</td>\n",
       "      <td>战狼2</td>\n",
       "      <td>《战狼2》里吴京这么能打，他打得过徐晓冬么？</td>\n",
       "      <td>3</td>\n",
       "    </tr>\n",
       "    <tr>\n",
       "      <th>18</th>\n",
       "      <td>19</td>\n",
       "      <td>https://movie.douban.com/subject/26363254/</td>\n",
       "      <td>战狼2</td>\n",
       "      <td>心往一处想，劲往一处使，就能实现我们的梦想。看吧，比第一部好太多了。谢谢美队的动作指导。</td>\n",
       "      <td>3</td>\n",
       "    </tr>\n",
       "    <tr>\n",
       "      <th>19</th>\n",
       "      <td>20</td>\n",
       "      <td>https://movie.douban.com/subject/26363254/</td>\n",
       "      <td>战狼2</td>\n",
       "      <td>这都能火。是我没见识！</td>\n",
       "      <td>2</td>\n",
       "    </tr>\n",
       "    <tr>\n",
       "      <th>20</th>\n",
       "      <td>21</td>\n",
       "      <td>https://movie.douban.com/subject/26363254/</td>\n",
       "      <td>战狼2</td>\n",
       "      <td>开头的水下长对决戏可算华语电影的顶尖存在；驱逐舰、导弹和坦克在商业片里这么狂用也是了得；镜头...</td>\n",
       "      <td>4</td>\n",
       "    </tr>\n",
       "    <tr>\n",
       "      <th>21</th>\n",
       "      <td>22</td>\n",
       "      <td>https://movie.douban.com/subject/26363254/</td>\n",
       "      <td>战狼2</td>\n",
       "      <td>很用心啊吴京导演，小看你了，确实在导演上下功夫了拉片子了，知道借鉴是好的。至于大家比较反感的...</td>\n",
       "      <td>4</td>\n",
       "    </tr>\n",
       "    <tr>\n",
       "      <th>22</th>\n",
       "      <td>23</td>\n",
       "      <td>https://movie.douban.com/subject/26363254/</td>\n",
       "      <td>战狼2</td>\n",
       "      <td>犯我中华者虽远必诛，这句话一直在我脑子里回响</td>\n",
       "      <td>4</td>\n",
       "    </tr>\n",
       "    <tr>\n",
       "      <th>23</th>\n",
       "      <td>24</td>\n",
       "      <td>https://movie.douban.com/subject/26363254/</td>\n",
       "      <td>战狼2</td>\n",
       "      <td>片头海里那场动作戏看完就呆不下去了，太假太做作，提前离场。</td>\n",
       "      <td>1</td>\n",
       "    </tr>\n",
       "    <tr>\n",
       "      <th>24</th>\n",
       "      <td>25</td>\n",
       "      <td>https://movie.douban.com/subject/26363254/</td>\n",
       "      <td>战狼2</td>\n",
       "      <td>好看，这部戏让人看的热血沸腾，打戏挺燃的，吴京演技棒呆了</td>\n",
       "      <td>4</td>\n",
       "    </tr>\n",
       "    <tr>\n",
       "      <th>25</th>\n",
       "      <td>26</td>\n",
       "      <td>https://movie.douban.com/subject/26363254/</td>\n",
       "      <td>战狼2</td>\n",
       "      <td>符合“有钱了续集反而拍更差”这一放之四海而皆准的规律，场面越做越大，然而伴随着各种动作场面和...</td>\n",
       "      <td>2</td>\n",
       "    </tr>\n",
       "    <tr>\n",
       "      <th>26</th>\n",
       "      <td>27</td>\n",
       "      <td>https://movie.douban.com/subject/26363254/</td>\n",
       "      <td>战狼2</td>\n",
       "      <td>说喜欢这部片子的人不是装傻就是真傻，要不是真的没有别的可看肯定是不会选这部的，直男癌到令人发...</td>\n",
       "      <td>2</td>\n",
       "    </tr>\n",
       "    <tr>\n",
       "      <th>27</th>\n",
       "      <td>28</td>\n",
       "      <td>https://movie.douban.com/subject/26363254/</td>\n",
       "      <td>战狼2</td>\n",
       "      <td>整部电影延续1的风格，热血。场面比1来的要大，打戏动作不错，吴京挺适合演军人的，电影之前的中...</td>\n",
       "      <td>4</td>\n",
       "    </tr>\n",
       "    <tr>\n",
       "      <th>28</th>\n",
       "      <td>29</td>\n",
       "      <td>https://movie.douban.com/subject/26363254/</td>\n",
       "      <td>战狼2</td>\n",
       "      <td>目瞪狗呆！太瘠薄好看了！中国人牛b就是硬道理！隔壁建军大爷都没你们爱国</td>\n",
       "      <td>1</td>\n",
       "    </tr>\n",
       "    <tr>\n",
       "      <th>29</th>\n",
       "      <td>30</td>\n",
       "      <td>https://movie.douban.com/subject/26363254/</td>\n",
       "      <td>战狼2</td>\n",
       "      <td>《战狼2》的动作场景和战斗装备全线升级，热血的打斗动作从头打到尾。《战狼2》游走在电影审查红...</td>\n",
       "      <td>4</td>\n",
       "    </tr>\n",
       "    <tr>\n",
       "      <th>...</th>\n",
       "      <td>...</td>\n",
       "      <td>...</td>\n",
       "      <td>...</td>\n",
       "      <td>...</td>\n",
       "      <td>...</td>\n",
       "    </tr>\n",
       "    <tr>\n",
       "      <th>70</th>\n",
       "      <td>71</td>\n",
       "      <td>https://movie.douban.com/subject/26363254/</td>\n",
       "      <td>战狼2</td>\n",
       "      <td>集体癔症。</td>\n",
       "      <td>1</td>\n",
       "    </tr>\n",
       "    <tr>\n",
       "      <th>71</th>\n",
       "      <td>72</td>\n",
       "      <td>https://movie.douban.com/subject/26363254/</td>\n",
       "      <td>战狼2</td>\n",
       "      <td>这个系列从1开始就跟吃了壮阳药似的。</td>\n",
       "      <td>2</td>\n",
       "    </tr>\n",
       "    <tr>\n",
       "      <th>72</th>\n",
       "      <td>73</td>\n",
       "      <td>https://movie.douban.com/subject/26363254/</td>\n",
       "      <td>战狼2</td>\n",
       "      <td>张翰脸比女主白太多了，请问用了什么护肤品？！</td>\n",
       "      <td>4</td>\n",
       "    </tr>\n",
       "    <tr>\n",
       "      <th>73</th>\n",
       "      <td>74</td>\n",
       "      <td>https://movie.douban.com/subject/26363254/</td>\n",
       "      <td>战狼2</td>\n",
       "      <td>客观的说七分，虽然情节逻辑有各种经不起推敲的细节，但总体完成度很高，虽然反派有点无脑脸谱化，...</td>\n",
       "      <td>4</td>\n",
       "    </tr>\n",
       "    <tr>\n",
       "      <th>74</th>\n",
       "      <td>75</td>\n",
       "      <td>https://movie.douban.com/subject/26363254/</td>\n",
       "      <td>战狼2</td>\n",
       "      <td>在吴京的个人英雄幻想下连主旋律都沦为附庸了，我tm还能说什么...主角已经牛逼到突破逻辑的地...</td>\n",
       "      <td>1</td>\n",
       "    </tr>\n",
       "    <tr>\n",
       "      <th>75</th>\n",
       "      <td>76</td>\n",
       "      <td>https://movie.douban.com/subject/26363254/</td>\n",
       "      <td>战狼2</td>\n",
       "      <td>1.看看人家装逼装得多专业。2.由于全国发布高温警报，主角只好去非洲避暑了。3.Tundu：...</td>\n",
       "      <td>3</td>\n",
       "    </tr>\n",
       "    <tr>\n",
       "      <th>76</th>\n",
       "      <td>77</td>\n",
       "      <td>https://movie.douban.com/subject/26363254/</td>\n",
       "      <td>战狼2</td>\n",
       "      <td>三星半，与首部一脉相承，但脱离了军旅题材的限制，变成了孤胆英雄动作片，与第一滴血系列是一样的...</td>\n",
       "      <td>4</td>\n",
       "    </tr>\n",
       "    <tr>\n",
       "      <th>77</th>\n",
       "      <td>78</td>\n",
       "      <td>https://movie.douban.com/subject/26363254/</td>\n",
       "      <td>战狼2</td>\n",
       "      <td>已三刷。不明白为什么会有人说中二和吴京意淫。这种类型的电影肯定要有一个英雄人物带动情节的发展...</td>\n",
       "      <td>5</td>\n",
       "    </tr>\n",
       "    <tr>\n",
       "      <th>78</th>\n",
       "      <td>79</td>\n",
       "      <td>https://movie.douban.com/subject/26363254/</td>\n",
       "      <td>战狼2</td>\n",
       "      <td>张翰脸比女主白太多了，请问用了什么护肤品？！</td>\n",
       "      <td>4</td>\n",
       "    </tr>\n",
       "    <tr>\n",
       "      <th>79</th>\n",
       "      <td>80</td>\n",
       "      <td>https://movie.douban.com/subject/26363254/</td>\n",
       "      <td>战狼2</td>\n",
       "      <td>客观的说七分，虽然情节逻辑有各种经不起推敲的细节，但总体完成度很高，虽然反派有点无脑脸谱化，...</td>\n",
       "      <td>4</td>\n",
       "    </tr>\n",
       "    <tr>\n",
       "      <th>80</th>\n",
       "      <td>81</td>\n",
       "      <td>https://movie.douban.com/subject/26363254/</td>\n",
       "      <td>战狼2</td>\n",
       "      <td>在吴京的个人英雄幻想下连主旋律都沦为附庸了，我tm还能说什么...主角已经牛逼到突破逻辑的地...</td>\n",
       "      <td>1</td>\n",
       "    </tr>\n",
       "    <tr>\n",
       "      <th>81</th>\n",
       "      <td>82</td>\n",
       "      <td>https://movie.douban.com/subject/26363254/</td>\n",
       "      <td>战狼2</td>\n",
       "      <td>1.看看人家装逼装得多专业。2.由于全国发布高温警报，主角只好去非洲避暑了。3.Tundu：...</td>\n",
       "      <td>3</td>\n",
       "    </tr>\n",
       "    <tr>\n",
       "      <th>82</th>\n",
       "      <td>83</td>\n",
       "      <td>https://movie.douban.com/subject/26363254/</td>\n",
       "      <td>战狼2</td>\n",
       "      <td>三星半，与首部一脉相承，但脱离了军旅题材的限制，变成了孤胆英雄动作片，与第一滴血系列是一样的...</td>\n",
       "      <td>4</td>\n",
       "    </tr>\n",
       "    <tr>\n",
       "      <th>83</th>\n",
       "      <td>84</td>\n",
       "      <td>https://movie.douban.com/subject/26363254/</td>\n",
       "      <td>战狼2</td>\n",
       "      <td>已三刷。不明白为什么会有人说中二和吴京意淫。这种类型的电影肯定要有一个英雄人物带动情节的发展...</td>\n",
       "      <td>5</td>\n",
       "    </tr>\n",
       "    <tr>\n",
       "      <th>84</th>\n",
       "      <td>85</td>\n",
       "      <td>https://movie.douban.com/subject/26363254/</td>\n",
       "      <td>战狼2</td>\n",
       "      <td>样板戏走向全球</td>\n",
       "      <td>2</td>\n",
       "    </tr>\n",
       "    <tr>\n",
       "      <th>85</th>\n",
       "      <td>86</td>\n",
       "      <td>https://movie.douban.com/subject/26363254/</td>\n",
       "      <td>战狼2</td>\n",
       "      <td>捧高美国队长，贬低战狼，双重标准不要玩的太溜……好莱坞玩爱美国就是高大上，国内玩爱国就是假大...</td>\n",
       "      <td>4</td>\n",
       "    </tr>\n",
       "    <tr>\n",
       "      <th>86</th>\n",
       "      <td>87</td>\n",
       "      <td>https://movie.douban.com/subject/26363254/</td>\n",
       "      <td>战狼2</td>\n",
       "      <td>二十年前，当我还是个懵懂的小孩子，看到这样的故事和镜头，我会被感动的哭鼻子；如今，二十年过去...</td>\n",
       "      <td>1</td>\n",
       "    </tr>\n",
       "    <tr>\n",
       "      <th>87</th>\n",
       "      <td>88</td>\n",
       "      <td>https://movie.douban.com/subject/26363254/</td>\n",
       "      <td>战狼2</td>\n",
       "      <td>《战狼2》可以说用军舰坦克，撞开了国产电影重工业的大门。让观众了解到国产电影也可以像好莱坞大...</td>\n",
       "      <td>5</td>\n",
       "    </tr>\n",
       "    <tr>\n",
       "      <th>88</th>\n",
       "      <td>89</td>\n",
       "      <td>https://movie.douban.com/subject/26363254/</td>\n",
       "      <td>战狼2</td>\n",
       "      <td>说剧情有bug，我承认。但你看的燃不燃？high不high？动作打得过瘾不过瘾？看得心潮澎湃...</td>\n",
       "      <td>4</td>\n",
       "    </tr>\n",
       "    <tr>\n",
       "      <th>89</th>\n",
       "      <td>90</td>\n",
       "      <td>https://movie.douban.com/subject/26363254/</td>\n",
       "      <td>战狼2</td>\n",
       "      <td>这一星给开场拆房子的那场戏，太不符合社会主义核心价值观了！</td>\n",
       "      <td>1</td>\n",
       "    </tr>\n",
       "    <tr>\n",
       "      <th>90</th>\n",
       "      <td>91</td>\n",
       "      <td>https://movie.douban.com/subject/26363254/</td>\n",
       "      <td>战狼2</td>\n",
       "      <td>#电影院#一个人就买了四张票（不打折）请全家看，心疼我的小钱钱≥﹏≤ 还好家长们的反应是好的...</td>\n",
       "      <td>4</td>\n",
       "    </tr>\n",
       "    <tr>\n",
       "      <th>91</th>\n",
       "      <td>92</td>\n",
       "      <td>https://movie.douban.com/subject/26363254/</td>\n",
       "      <td>战狼2</td>\n",
       "      <td>听说过夜郎自大吗？我第一次知道中国人这么牛逼。中国部队所向披靡，连特么坦克都能给你开漂移。整...</td>\n",
       "      <td>2</td>\n",
       "    </tr>\n",
       "    <tr>\n",
       "      <th>92</th>\n",
       "      <td>93</td>\n",
       "      <td>https://movie.douban.com/subject/26363254/</td>\n",
       "      <td>战狼2</td>\n",
       "      <td>我跟你们讲，吴京当年在电视上大吹牛逼，说自己在杀破狼里和甄子丹真打，多厉害多牛逼。结果花絮里...</td>\n",
       "      <td>1</td>\n",
       "    </tr>\n",
       "    <tr>\n",
       "      <th>93</th>\n",
       "      <td>94</td>\n",
       "      <td>https://movie.douban.com/subject/26363254/</td>\n",
       "      <td>战狼2</td>\n",
       "      <td>「中國狼不咬中國人！」www</td>\n",
       "      <td>1</td>\n",
       "    </tr>\n",
       "    <tr>\n",
       "      <th>94</th>\n",
       "      <td>95</td>\n",
       "      <td>https://movie.douban.com/subject/26363254/</td>\n",
       "      <td>战狼2</td>\n",
       "      <td>冷锋像是一个符号，他代表着千千万万守护我们的军人。“国强则民安”，生活在这个没有战争的国度，...</td>\n",
       "      <td>5</td>\n",
       "    </tr>\n",
       "    <tr>\n",
       "      <th>95</th>\n",
       "      <td>96</td>\n",
       "      <td>https://movie.douban.com/subject/26363254/</td>\n",
       "      <td>战狼2</td>\n",
       "      <td>非常难看 也不知道导演哪儿来的自信</td>\n",
       "      <td>1</td>\n",
       "    </tr>\n",
       "    <tr>\n",
       "      <th>96</th>\n",
       "      <td>97</td>\n",
       "      <td>https://movie.douban.com/subject/26363254/</td>\n",
       "      <td>战狼2</td>\n",
       "      <td>一部政治宣传片！中国也就在非洲还有点脸面了！给宏大的战争场面和吴京卖力的打斗五星，剧情减一星...</td>\n",
       "      <td>3</td>\n",
       "    </tr>\n",
       "    <tr>\n",
       "      <th>97</th>\n",
       "      <td>98</td>\n",
       "      <td>https://movie.douban.com/subject/26363254/</td>\n",
       "      <td>战狼2</td>\n",
       "      <td>诚意满满，全程无尿点。吴京非常帅，剧情比战狼1好看多了。</td>\n",
       "      <td>5</td>\n",
       "    </tr>\n",
       "    <tr>\n",
       "      <th>98</th>\n",
       "      <td>99</td>\n",
       "      <td>https://movie.douban.com/subject/26363254/</td>\n",
       "      <td>战狼2</td>\n",
       "      <td>23点45分开始，1点48分结束，我看了12次手机，影厅的天花板上有8条线组合成三角形装饰，...</td>\n",
       "      <td>2</td>\n",
       "    </tr>\n",
       "    <tr>\n",
       "      <th>99</th>\n",
       "      <td>100</td>\n",
       "      <td>https://movie.douban.com/subject/26363254/</td>\n",
       "      <td>战狼2</td>\n",
       "      <td>有一场坦克戏，简直令人浮想连连啊，吴京真的不是故意的嘛。又是压人压成肉泥的镜头，又是吴京站在...</td>\n",
       "      <td>4</td>\n",
       "    </tr>\n",
       "  </tbody>\n",
       "</table>\n",
       "<p>100 rows × 5 columns</p>\n",
       "</div>"
      ],
      "text/plain": [
       "     id                                        link name  \\\n",
       "0     1  https://movie.douban.com/subject/26363254/  战狼2   \n",
       "1     2  https://movie.douban.com/subject/26363254/  战狼2   \n",
       "2     3  https://movie.douban.com/subject/26363254/  战狼2   \n",
       "3     4  https://movie.douban.com/subject/26363254/  战狼2   \n",
       "4     5  https://movie.douban.com/subject/26363254/  战狼2   \n",
       "5     6  https://movie.douban.com/subject/26363254/  战狼2   \n",
       "6     7  https://movie.douban.com/subject/26363254/  战狼2   \n",
       "7     8  https://movie.douban.com/subject/26363254/  战狼2   \n",
       "8     9  https://movie.douban.com/subject/26363254/  战狼2   \n",
       "9    10  https://movie.douban.com/subject/26363254/  战狼2   \n",
       "10   11  https://movie.douban.com/subject/26363254/  战狼2   \n",
       "11   12  https://movie.douban.com/subject/26363254/  战狼2   \n",
       "12   13  https://movie.douban.com/subject/26363254/  战狼2   \n",
       "13   14  https://movie.douban.com/subject/26363254/  战狼2   \n",
       "14   15  https://movie.douban.com/subject/26363254/  战狼2   \n",
       "15   16  https://movie.douban.com/subject/26363254/  战狼2   \n",
       "16   17  https://movie.douban.com/subject/26363254/  战狼2   \n",
       "17   18  https://movie.douban.com/subject/26363254/  战狼2   \n",
       "18   19  https://movie.douban.com/subject/26363254/  战狼2   \n",
       "19   20  https://movie.douban.com/subject/26363254/  战狼2   \n",
       "20   21  https://movie.douban.com/subject/26363254/  战狼2   \n",
       "21   22  https://movie.douban.com/subject/26363254/  战狼2   \n",
       "22   23  https://movie.douban.com/subject/26363254/  战狼2   \n",
       "23   24  https://movie.douban.com/subject/26363254/  战狼2   \n",
       "24   25  https://movie.douban.com/subject/26363254/  战狼2   \n",
       "25   26  https://movie.douban.com/subject/26363254/  战狼2   \n",
       "26   27  https://movie.douban.com/subject/26363254/  战狼2   \n",
       "27   28  https://movie.douban.com/subject/26363254/  战狼2   \n",
       "28   29  https://movie.douban.com/subject/26363254/  战狼2   \n",
       "29   30  https://movie.douban.com/subject/26363254/  战狼2   \n",
       "..  ...                                         ...  ...   \n",
       "70   71  https://movie.douban.com/subject/26363254/  战狼2   \n",
       "71   72  https://movie.douban.com/subject/26363254/  战狼2   \n",
       "72   73  https://movie.douban.com/subject/26363254/  战狼2   \n",
       "73   74  https://movie.douban.com/subject/26363254/  战狼2   \n",
       "74   75  https://movie.douban.com/subject/26363254/  战狼2   \n",
       "75   76  https://movie.douban.com/subject/26363254/  战狼2   \n",
       "76   77  https://movie.douban.com/subject/26363254/  战狼2   \n",
       "77   78  https://movie.douban.com/subject/26363254/  战狼2   \n",
       "78   79  https://movie.douban.com/subject/26363254/  战狼2   \n",
       "79   80  https://movie.douban.com/subject/26363254/  战狼2   \n",
       "80   81  https://movie.douban.com/subject/26363254/  战狼2   \n",
       "81   82  https://movie.douban.com/subject/26363254/  战狼2   \n",
       "82   83  https://movie.douban.com/subject/26363254/  战狼2   \n",
       "83   84  https://movie.douban.com/subject/26363254/  战狼2   \n",
       "84   85  https://movie.douban.com/subject/26363254/  战狼2   \n",
       "85   86  https://movie.douban.com/subject/26363254/  战狼2   \n",
       "86   87  https://movie.douban.com/subject/26363254/  战狼2   \n",
       "87   88  https://movie.douban.com/subject/26363254/  战狼2   \n",
       "88   89  https://movie.douban.com/subject/26363254/  战狼2   \n",
       "89   90  https://movie.douban.com/subject/26363254/  战狼2   \n",
       "90   91  https://movie.douban.com/subject/26363254/  战狼2   \n",
       "91   92  https://movie.douban.com/subject/26363254/  战狼2   \n",
       "92   93  https://movie.douban.com/subject/26363254/  战狼2   \n",
       "93   94  https://movie.douban.com/subject/26363254/  战狼2   \n",
       "94   95  https://movie.douban.com/subject/26363254/  战狼2   \n",
       "95   96  https://movie.douban.com/subject/26363254/  战狼2   \n",
       "96   97  https://movie.douban.com/subject/26363254/  战狼2   \n",
       "97   98  https://movie.douban.com/subject/26363254/  战狼2   \n",
       "98   99  https://movie.douban.com/subject/26363254/  战狼2   \n",
       "99  100  https://movie.douban.com/subject/26363254/  战狼2   \n",
       "\n",
       "                                              comment star  \n",
       "0                                  吴京意淫到了脑残的地步，看了恶心想吐    1  \n",
       "1   首映礼看的。太恐怖了这个电影，不讲道理的，完全就是吴京在实现他这个小粉红的英雄梦。各种装备轮...    2  \n",
       "2   吴京的炒作水平不输冯小刚，但小刚至少不会用主旋律来炒作…吴京让人看了不舒服，为了主旋律而主旋...    2  \n",
       "3                       凭良心说，好看到不像《战狼1》的续集，完虐《湄公河行动》。    4  \n",
       "4                                                中二得很    1  \n",
       "5                         “犯我中华者，虽远必诛”，吴京比这句话还要意淫一百倍。    1  \n",
       "6                                   脑子是个好东西，希望编剧们都能有。    2  \n",
       "7   三星半，实打实的7分。第一集在爱国主旋律内部做着各种置换与较劲，但第二集才真正显露吴京的野心...    4  \n",
       "8   开篇长镜头惊险大气引人入胜 结合了水平不俗的快剪下实打实的真刀真枪 让人不禁热血沸腾 特别弹...    4  \n",
       "9   15/100吴京的冷峰在这部里即像成龙，又像杰森斯坦森，但体制外的同类型电影，主角总是代表个...    1  \n",
       "10                              犯我中华者虽远必诛，是有多无脑才信这句话。    1  \n",
       "11            这部戏让人看的热血沸腾，对吴京路转粉，最后的彩蛋，让我们没有理由不期待下一部。    4  \n",
       "12                                        假嗨，特别恶心的电影。    1  \n",
       "13                        有几处情节设置过于尴尬，彰显国家自豪感的部分稍显突兀。    2  \n",
       "14  就是一部爽片，打戏挺燃，但是故事一般。达康书记不合适这个角色，赵东来倒是很合适。张瀚太太太违...    2  \n",
       "15  赵东来：达康书记，我们接到在非洲卧底的冷锋报告，丁义珍现在非洲，我们请求抓捕。李达康：东来，...    5  \n",
       "16                                下一部拍喜剧吧，整个片子真感觉挺搞笑的    2  \n",
       "17                             《战狼2》里吴京这么能打，他打得过徐晓冬么？    3  \n",
       "18       心往一处想，劲往一处使，就能实现我们的梦想。看吧，比第一部好太多了。谢谢美队的动作指导。    3  \n",
       "19                                        这都能火。是我没见识！    2  \n",
       "20  开头的水下长对决戏可算华语电影的顶尖存在；驱逐舰、导弹和坦克在商业片里这么狂用也是了得；镜头...    4  \n",
       "21  很用心啊吴京导演，小看你了，确实在导演上下功夫了拉片子了，知道借鉴是好的。至于大家比较反感的...    4  \n",
       "22                             犯我中华者虽远必诛，这句话一直在我脑子里回响    4  \n",
       "23                      片头海里那场动作戏看完就呆不下去了，太假太做作，提前离场。    1  \n",
       "24                       好看，这部戏让人看的热血沸腾，打戏挺燃的，吴京演技棒呆了    4  \n",
       "25  符合“有钱了续集反而拍更差”这一放之四海而皆准的规律，场面越做越大，然而伴随着各种动作场面和...    2  \n",
       "26  说喜欢这部片子的人不是装傻就是真傻，要不是真的没有别的可看肯定是不会选这部的，直男癌到令人发...    2  \n",
       "27  整部电影延续1的风格，热血。场面比1来的要大，打戏动作不错，吴京挺适合演军人的，电影之前的中...    4  \n",
       "28                目瞪狗呆！太瘠薄好看了！中国人牛b就是硬道理！隔壁建军大爷都没你们爱国    1  \n",
       "29  《战狼2》的动作场景和战斗装备全线升级，热血的打斗动作从头打到尾。《战狼2》游走在电影审查红...    4  \n",
       "..                                                ...  ...  \n",
       "70                                              集体癔症。    1  \n",
       "71                                 这个系列从1开始就跟吃了壮阳药似的。    2  \n",
       "72                             张翰脸比女主白太多了，请问用了什么护肤品？！    4  \n",
       "73  客观的说七分，虽然情节逻辑有各种经不起推敲的细节，但总体完成度很高，虽然反派有点无脑脸谱化，...    4  \n",
       "74  在吴京的个人英雄幻想下连主旋律都沦为附庸了，我tm还能说什么...主角已经牛逼到突破逻辑的地...    1  \n",
       "75  1.看看人家装逼装得多专业。2.由于全国发布高温警报，主角只好去非洲避暑了。3.Tundu：...    3  \n",
       "76  三星半，与首部一脉相承，但脱离了军旅题材的限制，变成了孤胆英雄动作片，与第一滴血系列是一样的...    4  \n",
       "77  已三刷。不明白为什么会有人说中二和吴京意淫。这种类型的电影肯定要有一个英雄人物带动情节的发展...    5  \n",
       "78                             张翰脸比女主白太多了，请问用了什么护肤品？！    4  \n",
       "79  客观的说七分，虽然情节逻辑有各种经不起推敲的细节，但总体完成度很高，虽然反派有点无脑脸谱化，...    4  \n",
       "80  在吴京的个人英雄幻想下连主旋律都沦为附庸了，我tm还能说什么...主角已经牛逼到突破逻辑的地...    1  \n",
       "81  1.看看人家装逼装得多专业。2.由于全国发布高温警报，主角只好去非洲避暑了。3.Tundu：...    3  \n",
       "82  三星半，与首部一脉相承，但脱离了军旅题材的限制，变成了孤胆英雄动作片，与第一滴血系列是一样的...    4  \n",
       "83  已三刷。不明白为什么会有人说中二和吴京意淫。这种类型的电影肯定要有一个英雄人物带动情节的发展...    5  \n",
       "84                                            样板戏走向全球    2  \n",
       "85  捧高美国队长，贬低战狼，双重标准不要玩的太溜……好莱坞玩爱美国就是高大上，国内玩爱国就是假大...    4  \n",
       "86  二十年前，当我还是个懵懂的小孩子，看到这样的故事和镜头，我会被感动的哭鼻子；如今，二十年过去...    1  \n",
       "87  《战狼2》可以说用军舰坦克，撞开了国产电影重工业的大门。让观众了解到国产电影也可以像好莱坞大...    5  \n",
       "88  说剧情有bug，我承认。但你看的燃不燃？high不high？动作打得过瘾不过瘾？看得心潮澎湃...    4  \n",
       "89                      这一星给开场拆房子的那场戏，太不符合社会主义核心价值观了！    1  \n",
       "90  #电影院#一个人就买了四张票（不打折）请全家看，心疼我的小钱钱≥﹏≤ 还好家长们的反应是好的...    4  \n",
       "91  听说过夜郎自大吗？我第一次知道中国人这么牛逼。中国部队所向披靡，连特么坦克都能给你开漂移。整...    2  \n",
       "92  我跟你们讲，吴京当年在电视上大吹牛逼，说自己在杀破狼里和甄子丹真打，多厉害多牛逼。结果花絮里...    1  \n",
       "93                                     「中國狼不咬中國人！」www    1  \n",
       "94  冷锋像是一个符号，他代表着千千万万守护我们的军人。“国强则民安”，生活在这个没有战争的国度，...    5  \n",
       "95                                  非常难看 也不知道导演哪儿来的自信    1  \n",
       "96  一部政治宣传片！中国也就在非洲还有点脸面了！给宏大的战争场面和吴京卖力的打斗五星，剧情减一星...    3  \n",
       "97                       诚意满满，全程无尿点。吴京非常帅，剧情比战狼1好看多了。    5  \n",
       "98  23点45分开始，1点48分结束，我看了12次手机，影厅的天花板上有8条线组合成三角形装饰，...    2  \n",
       "99  有一场坦克戏，简直令人浮想连连啊，吴京真的不是故意的嘛。又是压人压成肉泥的镜头，又是吴京站在...    4  \n",
       "\n",
       "[100 rows x 5 columns]"
      ]
     },
     "execution_count": 163,
     "metadata": {},
     "output_type": "execute_result"
    }
   ],
   "source": [
    "content_1.head(100)"
   ]
  },
  {
   "cell_type": "code",
   "execution_count": 164,
   "metadata": {},
   "outputs": [],
   "source": [
    "articles_1 = content_1['comment'].tolist()"
   ]
  },
  {
   "cell_type": "code",
   "execution_count": 165,
   "metadata": {},
   "outputs": [
    {
     "data": {
      "text/plain": [
       "261497"
      ]
     },
     "execution_count": 165,
     "metadata": {},
     "output_type": "execute_result"
    }
   ],
   "source": [
    "len(articles_1)"
   ]
  },
  {
   "cell_type": "code",
   "execution_count": 166,
   "metadata": {},
   "outputs": [],
   "source": [
    "from collections import Counter"
   ]
  },
  {
   "cell_type": "code",
   "execution_count": 167,
   "metadata": {},
   "outputs": [],
   "source": [
    "with_jieba_cut = Counter(articles_1[100])"
   ]
  },
  {
   "cell_type": "code",
   "execution_count": 170,
   "metadata": {},
   "outputs": [
    {
     "data": {
      "text/plain": [
       "[('?', 3),\n",
       " ('w', 1),\n",
       " ('t', 1),\n",
       " ('f', 1),\n",
       " ('我', 1),\n",
       " ('为', 1),\n",
       " ('啥', 1),\n",
       " ('要', 1),\n",
       " ('看', 1),\n",
       " ('这', 1),\n",
       " ('个', 1)]"
      ]
     },
     "execution_count": 170,
     "metadata": {},
     "output_type": "execute_result"
    }
   ],
   "source": [
    "with_jieba_cut.most_common()[:100]# 无法读取整个excel中的comment"
   ]
  },
  {
   "cell_type": "code",
   "execution_count": 158,
   "metadata": {},
   "outputs": [
    {
     "data": {
      "text/plain": [
       "'没看过'"
      ]
     },
     "execution_count": 158,
     "metadata": {},
     "output_type": "execute_result"
    }
   ],
   "source": [
    "''.join(token(articles[110]))"
   ]
  },
  {
   "cell_type": "code",
   "execution_count": 168,
   "metadata": {},
   "outputs": [],
   "source": [
    "articels_clean = [''.join(token(str(a)))for a in articles_1]"
   ]
  },
  {
   "cell_type": "code",
   "execution_count": 169,
   "metadata": {},
   "outputs": [
    {
     "data": {
      "text/plain": [
       "89611"
      ]
     },
     "execution_count": 169,
     "metadata": {},
     "output_type": "execute_result"
    }
   ],
   "source": [
    "len(articles_clean)"
   ]
  },
  {
   "cell_type": "code",
   "execution_count": null,
   "metadata": {},
   "outputs": [],
   "source": []
  }
 ],
 "metadata": {
  "kernelspec": {
   "display_name": "Python 3",
   "language": "python",
   "name": "python3"
  },
  "language_info": {
   "codemirror_mode": {
    "name": "ipython",
    "version": 3
   },
   "file_extension": ".py",
   "mimetype": "text/x-python",
   "name": "python",
   "nbconvert_exporter": "python",
   "pygments_lexer": "ipython3",
   "version": "3.7.0"
  }
 },
 "nbformat": 4,
 "nbformat_minor": 2
}
