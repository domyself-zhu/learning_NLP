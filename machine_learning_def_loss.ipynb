{
 "cells": [
  {
   "cell_type": "code",
   "execution_count": 1,
   "metadata": {},
   "outputs": [],
   "source": [
    "from sklearn.datasets import load_boston\n",
    "import random\n",
    "import matplotlib.pyplot as plt"
   ]
  },
  {
   "cell_type": "code",
   "execution_count": 2,
   "metadata": {},
   "outputs": [],
   "source": [
    "data = load_boston()"
   ]
  },
  {
   "cell_type": "code",
   "execution_count": 3,
   "metadata": {},
   "outputs": [],
   "source": [
    "X, y = data['data'], data['target']"
   ]
  },
  {
   "cell_type": "code",
   "execution_count": 4,
   "metadata": {},
   "outputs": [],
   "source": [
    "def draw_rm_and_price():\n",
    "    plt.scatter(X[:,5], y)"
   ]
  },
  {
   "cell_type": "code",
   "execution_count": 5,
   "metadata": {},
   "outputs": [
    {
     "data": {
      "image/png": "[encoded data removed]",
      "text/plain": [
       "<Figure size 432x288 with 1 Axes>"
      ]
     },
     "metadata": {
      "needs_background": "light"
     },
     "output_type": "display_data"
    }
   ],
   "source": [
    "draw_rm_and_price()"
   ]
  },
  {
   "cell_type": "code",
   "execution_count": 6,
   "metadata": {},
   "outputs": [],
   "source": [
    "def price(rm, k, b):\n",
    "    return k * rm + b"
   ]
  },
  {
   "cell_type": "code",
   "execution_count": 7,
   "metadata": {},
   "outputs": [],
   "source": [
    "X_rm = X[:,5]\n",
    "k = random.randint(-100, 100)\n",
    "b = random.randint(-100, 100)"
   ]
  },
  {
   "cell_type": "code",
   "execution_count": 8,
   "metadata": {},
   "outputs": [],
   "source": [
    "price_by_random_k_and_b = [price(r, k, b) for r in X_rm]"
   ]
  },
  {
   "cell_type": "code",
   "execution_count": 11,
   "metadata": {},
   "outputs": [
    {
     "data": {
      "text/plain": [
       "<matplotlib.collections.PathCollection at 0x2072ba2dbe0>"
      ]
     },
     "execution_count": 11,
     "metadata": {},
     "output_type": "execute_result"
    },
    {
     "data": {
      "image/png": "[encoded data removed]",
      "text/plain": [
       "<Figure size 432x288 with 1 Axes>"
      ]
     },
     "metadata": {
      "needs_background": "light"
     },
     "output_type": "display_data"
    }
   ],
   "source": [
    "draw_rm_and_price()\n",
    "plt.scatter(X_rm, price_by_random_k_and_b)"
   ]
  },
  {
   "cell_type": "code",
   "execution_count": 12,
   "metadata": {},
   "outputs": [],
   "source": [
    "def loss(y, y_hat):\n",
    "    return sum((y_i - y_hat_i)**2 for y_i, y_hat_i in zip(list(y), list(y_hat))) / len(list(y))"
   ]
  },
  {
   "cell_type": "markdown",
   "metadata": {},
   "source": [
    "# definition loss"
   ]
  },
  {
   "cell_type": "code",
   "execution_count": 40,
   "metadata": {},
   "outputs": [],
   "source": [
    "def loss_abs(y, y_hat): # to evaluate the performance \n",
    "\n",
    "    return sum(abs(y_i - y_hat_i) for y_i, y_hat_i in zip(list(y), list(y_hat))) / len(list(y))"
   ]
  },
  {
   "cell_type": "code",
   "execution_count": 41,
   "metadata": {},
   "outputs": [],
   "source": [
    "def partial_k(x, y, y_hat):\n",
    "    n = len(y)\n",
    "    \n",
    "    gradient = 0\n",
    "    \n",
    "    for x_i, y_i, y_hat_i in zip(list(x), list(y), list(y_hat)):\n",
    "        gradient += (y_i - y_hat_i) * x_i\n",
    "    \n",
    "    return -2 / n * gradient"
   ]
  },
  {
   "cell_type": "code",
   "execution_count": 42,
   "metadata": {},
   "outputs": [],
   "source": [
    "def partial_b(x, y, y_hat):\n",
    "    n = len(y)\n",
    "    \n",
    "    gradient = 0\n",
    "    \n",
    "    for y_i,y_hat_i in zip(list(y), list(y_hat)):\n",
    "        gradient += (y_i - y_hat_i)\n",
    "        \n",
    "    return -2 / n * gradient"
   ]
  },
  {
   "cell_type": "code",
   "execution_count": 44,
   "metadata": {},
   "outputs": [
    {
     "name": "stdout",
     "output_type": "stream",
     "text": [
      "When time is : 0, get best_k: -41.33890672989542 best_b: -55.39594096897478, and the loss is: 337.7286620633142\n",
      "When time is : 50, get best_k: -23.662264602613888 best_b: -52.615544792262874, and the loss is: 223.85703292057744\n",
      "When time is : 100, get best_k: -11.9483673033918 best_b: -50.77252251673553, and the loss is: 148.39644886845187\n",
      "When time is : 150, get best_k: -4.18586837514774 best_b: -49.55068028241997, and the loss is: 98.3901389379124\n",
      "When time is : 200, get best_k: 0.9581134913807964 best_b: -48.74048239018667, and the loss is: 65.25189571937995\n",
      "When time is : 250, get best_k: 4.366853566014062 best_b: -48.20307348966831, and the loss is: 43.29180172827728\n",
      "When time is : 300, get best_k: 6.6256816878411735 best_b: -47.84643676269869, and the loss is: 28.739256111755747\n",
      "When time is : 350, get best_k: 8.12248488623348 best_b: -47.609594401772554, and the loss is: 19.10269053903364\n",
      "When time is : 400, get best_k: 9.1143085696199 best_b: -47.452137565522776, and the loss is: 12.90808160065093\n",
      "When time is : 450, get best_k: 9.771491875406833 best_b: -47.347288077960734, and the loss is: 9.206972170235707\n",
      "When time is : 500, get best_k: 10.206915332795706 best_b: -47.27730054760482, and the loss is: 7.091427811644629\n",
      "When time is : 550, get best_k: 10.49538273653821 best_b: -47.23041543866592, and the loss is: 5.909845049487035\n",
      "When time is : 600, get best_k: 10.686465148612838 best_b: -47.19883992886912, and the loss is: 5.2336149822216615\n",
      "When time is : 650, get best_k: 10.8130123755542 best_b: -47.17740986206665, and the loss is: 4.87395977846286\n",
      "When time is : 700, get best_k: 10.896793363724779 best_b: -47.162703049506426, and the loss is: 4.690441715480975\n",
      "When time is : 750, get best_k: 10.952233982732704 best_b: -47.15245167132919, and the loss is: 4.604375063657543\n",
      "When time is : 800, get best_k: 10.98889398390799 best_b: -47.14515288613867, and the loss is: 4.554471480452119\n",
      "When time is : 850, get best_k: 11.01310843390305 best_b: -47.13981078931811, and the loss is: 4.527463453938865\n",
      "When time is : 900, get best_k: 11.029075461738316 best_b: -47.13576541368012, and the loss is: 4.513618967577835\n",
      "When time is : 950, get best_k: 11.039577088225375 best_b: -47.13257941142696, and the loss is: 4.5071069174634\n",
      "When time is : 1000, get best_k: 11.046456906011514 best_b: -47.129962960425836, and the loss is: 4.50381543883498\n",
      "When time is : 1050, get best_k: 11.050936629123438 best_b: -47.127724001015835, and the loss is: 4.501786260059951\n",
      "When time is : 1100, get best_k: 11.053825864371246 best_b: -47.12573525887978, and the loss is: 4.500489300862764\n",
      "When time is : 1150, get best_k: 11.055661122896003 best_b: -47.12391239172418, and the loss is: 4.499677289880443\n",
      "When time is : 1200, get best_k: 11.056797940496757 best_b: -47.12219950749679, and the loss is: 4.499132773339554\n",
      "When time is : 1250, get best_k: 11.057471924031482 best_b: -47.12055956758289, and the loss is: 4.498765521083813\n",
      "When time is : 1300, get best_k: 11.05783920571396 best_b: -47.11896802718476, and the loss is: 4.498515739292734\n",
      "When time is : 1350, get best_k: 11.05800325141226 best_b: -47.11740862092122, and the loss is: 4.498352820574438\n",
      "When time is : 1400, get best_k: 11.058032626001891 best_b: -47.11587057002406, and the loss is: 4.49823926224401\n",
      "When time is : 1450, get best_k: 11.05797276612973 best_b: -47.11434673159986, and the loss is: 4.4981576781058035\n",
      "When time is : 1500, get best_k: 11.057853781802361 best_b: -47.112832372180826, and the loss is: 4.498097283422107\n",
      "When time is : 1550, get best_k: 11.057695626351324 best_b: -47.11132435497989, and the loss is: 4.498050931350796\n",
      "When time is : 1600, get best_k: 11.057511522471422 best_b: -47.10982060130023, and the loss is: 4.498013885814512\n",
      "When time is : 1650, get best_k: 11.057310232591625 best_b: -47.108319733621435, and the loss is: 4.49798300830413\n",
      "When time is : 1700, get best_k: 11.05709756340698 best_b: -47.10682083907944, and the loss is: 4.497956218988851\n",
      "When time is : 1750, get best_k: 11.056877362903471 best_b: -47.1053233127292, and the loss is: 4.49793213960398\n",
      "When time is : 1800, get best_k: 11.056652181067589 best_b: -47.103826753677765, and the loss is: 4.49790985679945\n",
      "When time is : 1850, get best_k: 11.056423707726063 best_b: -47.10233089625361, and the loss is: 4.497888765315339\n",
      "When time is : 1900, get best_k: 11.056193062694025 best_b: -47.100835564394046, and the loss is: 4.497868464057235\n",
      "When time is : 1950, get best_k: 11.055960988050652 best_b: -47.09934064141828, and the loss is: 4.4978486872273304\n"
     ]
    },
    {
     "data": {
      "text/plain": [
       "<matplotlib.collections.PathCollection at 0x2072cded8d0>"
      ]
     },
     "execution_count": 44,
     "metadata": {},
     "output_type": "execute_result"
    },
    {
     "data": {
      "image/png": "[encoded data removed]",
      "text/plain": [
       "<Figure size 432x288 with 1 Axes>"
      ]
     },
     "metadata": {
      "needs_background": "light"
     },
     "output_type": "display_data"
    }
   ],
   "source": [
    "trying_times = 2000\n",
    "X, y = data['data'], data['target']\n",
    "\n",
    "\n",
    "min_loss = float('inf') \n",
    "\n",
    "\n",
    "current_k = random.random() * 200 - 100\n",
    "current_b = random.random() * 200 - 100\n",
    "\n",
    "\n",
    "learning_rate = 1e-04\n",
    "#learning_rate = 0.002\n",
    "\n",
    "update_time = 0\n",
    "\n",
    "\n",
    "for i in range(trying_times):\n",
    "    price_by_k_and_b = [price(r, current_k, current_b) for r in X_rm]\n",
    "    current_loss = loss_abs(y, price_by_k_and_b)\n",
    "\n",
    "    if current_loss < min_loss: # performance became better\n",
    "        min_loss = current_loss\n",
    "        if i % 50 == 0: \n",
    "            print('When time is : {}, get best_k: {} best_b: {}, and the loss is: {}'.format(i, current_k, current_b, min_loss))\n",
    "\n",
    "    k_gradient = partial_k(X_rm, y, price_by_k_and_b)\n",
    "    b_gradient = partial_b(X_rm, y, price_by_k_and_b)\n",
    "    \n",
    "    current_k = current_k + (-1 * k_gradient) * learning_rate\n",
    "    current_b = current_b + (-1 * b_gradient) * learning_rate\n",
    "X_rm = X[:, 5]\n",
    "k =  current_k\n",
    "b = current_b\n",
    "price_by_random_k_and_b = [price(r, k, b) for r in X_rm]\n",
    "draw_rm_and_price()\n",
    "plt.scatter(X_rm, price_by_random_k_and_b)"
   ]
  },
  {
   "cell_type": "code",
   "execution_count": null,
   "metadata": {},
   "outputs": [],
   "source": []
  },
  {
   "cell_type": "code",
   "execution_count": null,
   "metadata": {},
   "outputs": [],
   "source": []
  },
  {
   "cell_type": "code",
   "execution_count": null,
   "metadata": {},
   "outputs": [],
   "source": []
  }
 ],
 "metadata": {
  "kernelspec": {
   "display_name": "Python 3",
   "language": "python",
   "name": "python3"
  },
  "language_info": {
   "codemirror_mode": {
    "name": "ipython",
    "version": 3
   },
   "file_extension": ".py",
   "mimetype": "text/x-python",
   "name": "python",
   "nbconvert_exporter": "python",
   "pygments_lexer": "ipython3",
   "version": "3.7.0"
  }
 },
 "nbformat": 4,
 "nbformat_minor": 2
}
